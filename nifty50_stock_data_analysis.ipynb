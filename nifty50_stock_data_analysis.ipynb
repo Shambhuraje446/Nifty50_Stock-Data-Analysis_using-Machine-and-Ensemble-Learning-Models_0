{
 "cells": [
  {
   "cell_type": "markdown",
   "id": "0094c6dd",
   "metadata": {},
   "source": [
    "# NIFTY50 Stock data analysis, visualization and predictions using Historical data."
   ]
  },
  {
   "cell_type": "markdown",
   "id": "9221c6bc",
   "metadata": {},
   "source": [
    "# Overview"
   ]
  },
  {
   "cell_type": "markdown",
   "id": "311194d8",
   "metadata": {},
   "source": [
    "- Import important libraries.\n",
    "- Data cleaning and faithfulness.\n",
    "- Describe data for finding out mean, std, min., max. and more.\n",
    "- Visualize nifty50 Close price vs date, volume vs date and moving averages vs date.\n",
    "- For data analysis use machine learning models and ensemble learning models.\n",
    "- Improve the models performance using Backtesting and  rolling averages.\n",
    "- Implement model in our real life."
   ]
  },
  {
   "cell_type": "markdown",
   "id": "9cd3d33d",
   "metadata": {},
   "source": [
    "# Research Question of this project\n",
    "\n",
    "- Finding out patterns in historical data to predict what will be the market reaction tomorrow ?"
   ]
  },
  {
   "cell_type": "markdown",
   "id": "53b5fb55",
   "metadata": {},
   "source": [
    "# Background & Prior Work\n",
    "\n",
    "- I use the machine learning models before this on many different types of dataset to solve problems like regression, classification and many more.\n",
    "- I use here classifications algorithms to find out effective reliable output for us.\n",
    "- I start learning stock market from last 6 months. I know some basic knowledge about stock market."
   ]
  },
  {
   "cell_type": "markdown",
   "id": "17412074",
   "metadata": {},
   "source": [
    "# Hypothesis\n",
    "\n",
    "- First we use all machine learning models on given dataset Like decision tree model, random forest model, k-nearest neighbours, logistic regression model, naive bayes model and support vector classification model.\n",
    "- Then pull out top 3 models based on their performance and put them in boosting technique for to get more generalized and accurate model.\n",
    "- Then we use Backtesting + Rolling average technique to improve model’s performance.\n",
    "- Test, use,and improve this model."
   ]
  },
  {
   "cell_type": "markdown",
   "id": "0800ea90",
   "metadata": {},
   "source": [
    "# Dataset\n",
    "\n",
    "**Dataset Name:** Nifty50 historical stock data from (2007-09-17 to 2022-11-17) <br>\n",
    "**Link to the dataset:** https://finance.yahoo.com/quote/%5ENSEI/history?p=%5ENSEI <br>\n",
    "**Number of observations:** (3716 X 7) <br>\n",
    "**Description of dataset:** is shown below"
   ]
  },
  {
   "cell_type": "code",
   "execution_count": 13,
   "id": "6217d1a4",
   "metadata": {
    "scrolled": false
   },
   "outputs": [
    {
     "data": {
      "text/html": [
       "<div>\n",
       "<style scoped>\n",
       "    .dataframe tbody tr th:only-of-type {\n",
       "        vertical-align: middle;\n",
       "    }\n",
       "\n",
       "    .dataframe tbody tr th {\n",
       "        vertical-align: top;\n",
       "    }\n",
       "\n",
       "    .dataframe thead th {\n",
       "        text-align: right;\n",
       "    }\n",
       "</style>\n",
       "<table border=\"1\" class=\"dataframe\">\n",
       "  <thead>\n",
       "    <tr style=\"text-align: right;\">\n",
       "      <th></th>\n",
       "      <th>Open</th>\n",
       "      <th>High</th>\n",
       "      <th>Low</th>\n",
       "      <th>Close</th>\n",
       "      <th>Volume</th>\n",
       "      <th>Dividends</th>\n",
       "    </tr>\n",
       "  </thead>\n",
       "  <tbody>\n",
       "    <tr>\n",
       "      <th>count</th>\n",
       "      <td>3716.000000</td>\n",
       "      <td>3716.000000</td>\n",
       "      <td>3716.000000</td>\n",
       "      <td>3716.000000</td>\n",
       "      <td>3.716000e+03</td>\n",
       "      <td>3716.0</td>\n",
       "    </tr>\n",
       "    <tr>\n",
       "      <th>mean</th>\n",
       "      <td>8582.848494</td>\n",
       "      <td>8633.508360</td>\n",
       "      <td>8518.092958</td>\n",
       "      <td>8577.050983</td>\n",
       "      <td>1.940860e+05</td>\n",
       "      <td>0.0</td>\n",
       "    </tr>\n",
       "    <tr>\n",
       "      <th>std</th>\n",
       "      <td>3883.567252</td>\n",
       "      <td>3893.490718</td>\n",
       "      <td>3865.213506</td>\n",
       "      <td>3880.357616</td>\n",
       "      <td>2.172872e+05</td>\n",
       "      <td>0.0</td>\n",
       "    </tr>\n",
       "    <tr>\n",
       "      <th>min</th>\n",
       "      <td>2553.600098</td>\n",
       "      <td>2585.300049</td>\n",
       "      <td>2252.750000</td>\n",
       "      <td>2524.199951</td>\n",
       "      <td>0.000000e+00</td>\n",
       "      <td>0.0</td>\n",
       "    </tr>\n",
       "    <tr>\n",
       "      <th>25%</th>\n",
       "      <td>5429.799927</td>\n",
       "      <td>5473.925049</td>\n",
       "      <td>5380.874878</td>\n",
       "      <td>5428.212524</td>\n",
       "      <td>0.000000e+00</td>\n",
       "      <td>0.0</td>\n",
       "    </tr>\n",
       "    <tr>\n",
       "      <th>50%</th>\n",
       "      <td>7937.425049</td>\n",
       "      <td>7976.000000</td>\n",
       "      <td>7888.175049</td>\n",
       "      <td>7935.074951</td>\n",
       "      <td>1.578000e+05</td>\n",
       "      <td>0.0</td>\n",
       "    </tr>\n",
       "    <tr>\n",
       "      <th>75%</th>\n",
       "      <td>10820.575195</td>\n",
       "      <td>10865.925049</td>\n",
       "      <td>10756.149902</td>\n",
       "      <td>10807.000244</td>\n",
       "      <td>2.710500e+05</td>\n",
       "      <td>0.0</td>\n",
       "    </tr>\n",
       "    <tr>\n",
       "      <th>max</th>\n",
       "      <td>18602.349609</td>\n",
       "      <td>18604.449219</td>\n",
       "      <td>18445.300781</td>\n",
       "      <td>18477.050781</td>\n",
       "      <td>1.811000e+06</td>\n",
       "      <td>0.0</td>\n",
       "    </tr>\n",
       "  </tbody>\n",
       "</table>\n",
       "</div>"
      ],
      "text/plain": [
       "               Open          High           Low         Close        Volume  \\\n",
       "count   3716.000000   3716.000000   3716.000000   3716.000000  3.716000e+03   \n",
       "mean    8582.848494   8633.508360   8518.092958   8577.050983  1.940860e+05   \n",
       "std     3883.567252   3893.490718   3865.213506   3880.357616  2.172872e+05   \n",
       "min     2553.600098   2585.300049   2252.750000   2524.199951  0.000000e+00   \n",
       "25%     5429.799927   5473.925049   5380.874878   5428.212524  0.000000e+00   \n",
       "50%     7937.425049   7976.000000   7888.175049   7935.074951  1.578000e+05   \n",
       "75%    10820.575195  10865.925049  10756.149902  10807.000244  2.710500e+05   \n",
       "max    18602.349609  18604.449219  18445.300781  18477.050781  1.811000e+06   \n",
       "\n",
       "       Dividends  \n",
       "count     3716.0  \n",
       "mean         0.0  \n",
       "std          0.0  \n",
       "min          0.0  \n",
       "25%          0.0  \n",
       "50%          0.0  \n",
       "75%          0.0  \n",
       "max          0.0  "
      ]
     },
     "execution_count": 13,
     "metadata": {},
     "output_type": "execute_result"
    }
   ],
   "source": [
    "# nifty50.describe()"
   ]
  },
  {
   "cell_type": "markdown",
   "id": "5bd4d28e",
   "metadata": {},
   "source": [
    "# Faithfulness in data\n",
    "- Data is collected from Yahoo Finance which is one of the best finance data provider in world."
   ]
  },
  {
   "cell_type": "markdown",
   "id": "02d662e8",
   "metadata": {},
   "source": [
    "# Setup"
   ]
  },
  {
   "cell_type": "code",
   "execution_count": 1,
   "id": "a94efe95",
   "metadata": {},
   "outputs": [],
   "source": [
    "import pandas as pd\n",
    "import numpy as np\n",
    "import matplotlib.pyplot as plt\n",
    "import yfinance as yf\n",
    "%matplotlib inline"
   ]
  },
  {
   "cell_type": "code",
   "execution_count": 2,
   "id": "352ca010",
   "metadata": {
    "scrolled": true
   },
   "outputs": [
    {
     "data": {
      "text/html": [
       "<div>\n",
       "<style scoped>\n",
       "    .dataframe tbody tr th:only-of-type {\n",
       "        vertical-align: middle;\n",
       "    }\n",
       "\n",
       "    .dataframe tbody tr th {\n",
       "        vertical-align: top;\n",
       "    }\n",
       "\n",
       "    .dataframe thead th {\n",
       "        text-align: right;\n",
       "    }\n",
       "</style>\n",
       "<table border=\"1\" class=\"dataframe\">\n",
       "  <thead>\n",
       "    <tr style=\"text-align: right;\">\n",
       "      <th></th>\n",
       "      <th>Open</th>\n",
       "      <th>High</th>\n",
       "      <th>Low</th>\n",
       "      <th>Close</th>\n",
       "      <th>Volume</th>\n",
       "      <th>Dividends</th>\n",
       "      <th>Stock Splits</th>\n",
       "    </tr>\n",
       "    <tr>\n",
       "      <th>Date</th>\n",
       "      <th></th>\n",
       "      <th></th>\n",
       "      <th></th>\n",
       "      <th></th>\n",
       "      <th></th>\n",
       "      <th></th>\n",
       "      <th></th>\n",
       "    </tr>\n",
       "  </thead>\n",
       "  <tbody>\n",
       "    <tr>\n",
       "      <th>2007-09-17 00:00:00+05:30</th>\n",
       "      <td>4518.450195</td>\n",
       "      <td>4549.049805</td>\n",
       "      <td>4482.850098</td>\n",
       "      <td>4494.649902</td>\n",
       "      <td>0</td>\n",
       "      <td>0</td>\n",
       "      <td>0</td>\n",
       "    </tr>\n",
       "    <tr>\n",
       "      <th>2007-09-18 00:00:00+05:30</th>\n",
       "      <td>4494.100098</td>\n",
       "      <td>4551.799805</td>\n",
       "      <td>4481.549805</td>\n",
       "      <td>4546.200195</td>\n",
       "      <td>0</td>\n",
       "      <td>0</td>\n",
       "      <td>0</td>\n",
       "    </tr>\n",
       "    <tr>\n",
       "      <th>2007-09-19 00:00:00+05:30</th>\n",
       "      <td>4550.250000</td>\n",
       "      <td>4739.000000</td>\n",
       "      <td>4550.250000</td>\n",
       "      <td>4732.350098</td>\n",
       "      <td>0</td>\n",
       "      <td>0</td>\n",
       "      <td>0</td>\n",
       "    </tr>\n",
       "    <tr>\n",
       "      <th>2007-09-20 00:00:00+05:30</th>\n",
       "      <td>4734.850098</td>\n",
       "      <td>4760.850098</td>\n",
       "      <td>4721.149902</td>\n",
       "      <td>4747.549805</td>\n",
       "      <td>0</td>\n",
       "      <td>0</td>\n",
       "      <td>0</td>\n",
       "    </tr>\n",
       "    <tr>\n",
       "      <th>2007-09-21 00:00:00+05:30</th>\n",
       "      <td>4752.950195</td>\n",
       "      <td>4855.700195</td>\n",
       "      <td>4733.700195</td>\n",
       "      <td>4837.549805</td>\n",
       "      <td>0</td>\n",
       "      <td>0</td>\n",
       "      <td>0</td>\n",
       "    </tr>\n",
       "    <tr>\n",
       "      <th>...</th>\n",
       "      <td>...</td>\n",
       "      <td>...</td>\n",
       "      <td>...</td>\n",
       "      <td>...</td>\n",
       "      <td>...</td>\n",
       "      <td>...</td>\n",
       "      <td>...</td>\n",
       "    </tr>\n",
       "    <tr>\n",
       "      <th>2022-11-11 00:00:00+05:30</th>\n",
       "      <td>18272.349609</td>\n",
       "      <td>18362.300781</td>\n",
       "      <td>18259.349609</td>\n",
       "      <td>18349.699219</td>\n",
       "      <td>378500</td>\n",
       "      <td>0</td>\n",
       "      <td>0</td>\n",
       "    </tr>\n",
       "    <tr>\n",
       "      <th>2022-11-14 00:00:00+05:30</th>\n",
       "      <td>18376.400391</td>\n",
       "      <td>18399.449219</td>\n",
       "      <td>18311.400391</td>\n",
       "      <td>18329.150391</td>\n",
       "      <td>301400</td>\n",
       "      <td>0</td>\n",
       "      <td>0</td>\n",
       "    </tr>\n",
       "    <tr>\n",
       "      <th>2022-11-15 00:00:00+05:30</th>\n",
       "      <td>18362.750000</td>\n",
       "      <td>18427.949219</td>\n",
       "      <td>18282.000000</td>\n",
       "      <td>18403.400391</td>\n",
       "      <td>250900</td>\n",
       "      <td>0</td>\n",
       "      <td>0</td>\n",
       "    </tr>\n",
       "    <tr>\n",
       "      <th>2022-11-16 00:00:00+05:30</th>\n",
       "      <td>18398.250000</td>\n",
       "      <td>18442.150391</td>\n",
       "      <td>18344.150391</td>\n",
       "      <td>18409.650391</td>\n",
       "      <td>219300</td>\n",
       "      <td>0</td>\n",
       "      <td>0</td>\n",
       "    </tr>\n",
       "    <tr>\n",
       "      <th>2022-11-17 00:00:00+05:30</th>\n",
       "      <td>18358.699219</td>\n",
       "      <td>18417.599609</td>\n",
       "      <td>18312.949219</td>\n",
       "      <td>18343.900391</td>\n",
       "      <td>0</td>\n",
       "      <td>0</td>\n",
       "      <td>0</td>\n",
       "    </tr>\n",
       "  </tbody>\n",
       "</table>\n",
       "<p>3716 rows × 7 columns</p>\n",
       "</div>"
      ],
      "text/plain": [
       "                                   Open          High           Low  \\\n",
       "Date                                                                  \n",
       "2007-09-17 00:00:00+05:30   4518.450195   4549.049805   4482.850098   \n",
       "2007-09-18 00:00:00+05:30   4494.100098   4551.799805   4481.549805   \n",
       "2007-09-19 00:00:00+05:30   4550.250000   4739.000000   4550.250000   \n",
       "2007-09-20 00:00:00+05:30   4734.850098   4760.850098   4721.149902   \n",
       "2007-09-21 00:00:00+05:30   4752.950195   4855.700195   4733.700195   \n",
       "...                                 ...           ...           ...   \n",
       "2022-11-11 00:00:00+05:30  18272.349609  18362.300781  18259.349609   \n",
       "2022-11-14 00:00:00+05:30  18376.400391  18399.449219  18311.400391   \n",
       "2022-11-15 00:00:00+05:30  18362.750000  18427.949219  18282.000000   \n",
       "2022-11-16 00:00:00+05:30  18398.250000  18442.150391  18344.150391   \n",
       "2022-11-17 00:00:00+05:30  18358.699219  18417.599609  18312.949219   \n",
       "\n",
       "                                  Close  Volume  Dividends  Stock Splits  \n",
       "Date                                                                      \n",
       "2007-09-17 00:00:00+05:30   4494.649902       0          0             0  \n",
       "2007-09-18 00:00:00+05:30   4546.200195       0          0             0  \n",
       "2007-09-19 00:00:00+05:30   4732.350098       0          0             0  \n",
       "2007-09-20 00:00:00+05:30   4747.549805       0          0             0  \n",
       "2007-09-21 00:00:00+05:30   4837.549805       0          0             0  \n",
       "...                                 ...     ...        ...           ...  \n",
       "2022-11-11 00:00:00+05:30  18349.699219  378500          0             0  \n",
       "2022-11-14 00:00:00+05:30  18329.150391  301400          0             0  \n",
       "2022-11-15 00:00:00+05:30  18403.400391  250900          0             0  \n",
       "2022-11-16 00:00:00+05:30  18409.650391  219300          0             0  \n",
       "2022-11-17 00:00:00+05:30  18343.900391       0          0             0  \n",
       "\n",
       "[3716 rows x 7 columns]"
      ]
     },
     "execution_count": 2,
     "metadata": {},
     "output_type": "execute_result"
    }
   ],
   "source": [
    "nifty50 = yf.Ticker('^NSEI')\n",
    "nifty50 = nifty50.history(period='max')\n",
    "nifty50"
   ]
  },
  {
   "cell_type": "markdown",
   "id": "8ebc44c7",
   "metadata": {},
   "source": [
    "#### Inside index column"
   ]
  },
  {
   "cell_type": "code",
   "execution_count": 3,
   "id": "33242da9",
   "metadata": {
    "scrolled": true
   },
   "outputs": [
    {
     "data": {
      "text/plain": [
       "DatetimeIndex(['2007-09-17 00:00:00+05:30', '2007-09-18 00:00:00+05:30',\n",
       "               '2007-09-19 00:00:00+05:30', '2007-09-20 00:00:00+05:30',\n",
       "               '2007-09-21 00:00:00+05:30', '2007-09-24 00:00:00+05:30',\n",
       "               '2007-09-25 00:00:00+05:30', '2007-09-26 00:00:00+05:30',\n",
       "               '2007-09-27 00:00:00+05:30', '2007-09-28 00:00:00+05:30',\n",
       "               ...\n",
       "               '2022-11-03 00:00:00+05:30', '2022-11-04 00:00:00+05:30',\n",
       "               '2022-11-07 00:00:00+05:30', '2022-11-09 00:00:00+05:30',\n",
       "               '2022-11-10 00:00:00+05:30', '2022-11-11 00:00:00+05:30',\n",
       "               '2022-11-14 00:00:00+05:30', '2022-11-15 00:00:00+05:30',\n",
       "               '2022-11-16 00:00:00+05:30', '2022-11-17 00:00:00+05:30'],\n",
       "              dtype='datetime64[ns, Asia/Kolkata]', name='Date', length=3716, freq=None)"
      ]
     },
     "execution_count": 3,
     "metadata": {},
     "output_type": "execute_result"
    }
   ],
   "source": [
    "nifty50.index"
   ]
  },
  {
   "cell_type": "markdown",
   "id": "a55d4634",
   "metadata": {},
   "source": [
    "### Shape of data"
   ]
  },
  {
   "cell_type": "code",
   "execution_count": 4,
   "id": "ebfd18d6",
   "metadata": {},
   "outputs": [
    {
     "data": {
      "text/plain": [
       "(3716, 7)"
      ]
     },
     "execution_count": 4,
     "metadata": {},
     "output_type": "execute_result"
    }
   ],
   "source": [
    "nifty50.shape"
   ]
  },
  {
   "cell_type": "markdown",
   "id": "5c1309ba",
   "metadata": {},
   "source": [
    "### Datatypes of columns in dataset and finding about null values"
   ]
  },
  {
   "cell_type": "code",
   "execution_count": 5,
   "id": "d41fcc10",
   "metadata": {},
   "outputs": [
    {
     "data": {
      "text/plain": [
       "Open            float64\n",
       "High            float64\n",
       "Low             float64\n",
       "Close           float64\n",
       "Volume            int64\n",
       "Dividends         int64\n",
       "Stock Splits      int64\n",
       "dtype: object"
      ]
     },
     "execution_count": 5,
     "metadata": {},
     "output_type": "execute_result"
    }
   ],
   "source": [
    "nifty50.dtypes"
   ]
  },
  {
   "cell_type": "code",
   "execution_count": 6,
   "id": "26ba4928",
   "metadata": {},
   "outputs": [
    {
     "data": {
      "text/plain": [
       "(0, 7)"
      ]
     },
     "execution_count": 6,
     "metadata": {},
     "output_type": "execute_result"
    }
   ],
   "source": [
    "null_rows = nifty50.isnull().any(axis=1)\n",
    "nifty50[null_rows].shape"
   ]
  },
  {
   "cell_type": "code",
   "execution_count": 7,
   "id": "c24a1804",
   "metadata": {},
   "outputs": [
    {
     "data": {
      "text/html": [
       "<div>\n",
       "<style scoped>\n",
       "    .dataframe tbody tr th:only-of-type {\n",
       "        vertical-align: middle;\n",
       "    }\n",
       "\n",
       "    .dataframe tbody tr th {\n",
       "        vertical-align: top;\n",
       "    }\n",
       "\n",
       "    .dataframe thead th {\n",
       "        text-align: right;\n",
       "    }\n",
       "</style>\n",
       "<table border=\"1\" class=\"dataframe\">\n",
       "  <thead>\n",
       "    <tr style=\"text-align: right;\">\n",
       "      <th></th>\n",
       "      <th>Open</th>\n",
       "      <th>High</th>\n",
       "      <th>Low</th>\n",
       "      <th>Close</th>\n",
       "      <th>Volume</th>\n",
       "      <th>Dividends</th>\n",
       "      <th>Stock Splits</th>\n",
       "    </tr>\n",
       "    <tr>\n",
       "      <th>Date</th>\n",
       "      <th></th>\n",
       "      <th></th>\n",
       "      <th></th>\n",
       "      <th></th>\n",
       "      <th></th>\n",
       "      <th></th>\n",
       "      <th></th>\n",
       "    </tr>\n",
       "  </thead>\n",
       "  <tbody>\n",
       "  </tbody>\n",
       "</table>\n",
       "</div>"
      ],
      "text/plain": [
       "Empty DataFrame\n",
       "Columns: [Open, High, Low, Close, Volume, Dividends, Stock Splits]\n",
       "Index: []"
      ]
     },
     "execution_count": 7,
     "metadata": {},
     "output_type": "execute_result"
    }
   ],
   "source": [
    "nifty50[null_rows]"
   ]
  },
  {
   "cell_type": "code",
   "execution_count": 8,
   "id": "1cf54401",
   "metadata": {
    "scrolled": true
   },
   "outputs": [
    {
     "data": {
      "text/plain": [
       "Open            0\n",
       "High            0\n",
       "Low             0\n",
       "Close           0\n",
       "Volume          0\n",
       "Dividends       0\n",
       "Stock Splits    0\n",
       "dtype: int64"
      ]
     },
     "execution_count": 8,
     "metadata": {},
     "output_type": "execute_result"
    }
   ],
   "source": [
    "nifty50.isnull().sum()"
   ]
  },
  {
   "cell_type": "markdown",
   "id": "45a62c57",
   "metadata": {},
   "source": [
    "#### Removing of unwanted columns from dataset like dividents and stock split.\n",
    "#### Index is bunch of stocks so it not gives you dividents and stock split data value to be zero(0)."
   ]
  },
  {
   "cell_type": "code",
   "execution_count": 9,
   "id": "c6fd9871",
   "metadata": {},
   "outputs": [
    {
     "data": {
      "text/plain": [
       "<bound method NDFrame.head of                                    Open          High           Low  \\\n",
       "Date                                                                  \n",
       "2007-09-17 00:00:00+05:30   4518.450195   4549.049805   4482.850098   \n",
       "2007-09-18 00:00:00+05:30   4494.100098   4551.799805   4481.549805   \n",
       "2007-09-19 00:00:00+05:30   4550.250000   4739.000000   4550.250000   \n",
       "2007-09-20 00:00:00+05:30   4734.850098   4760.850098   4721.149902   \n",
       "2007-09-21 00:00:00+05:30   4752.950195   4855.700195   4733.700195   \n",
       "...                                 ...           ...           ...   \n",
       "2022-11-11 00:00:00+05:30  18272.349609  18362.300781  18259.349609   \n",
       "2022-11-14 00:00:00+05:30  18376.400391  18399.449219  18311.400391   \n",
       "2022-11-15 00:00:00+05:30  18362.750000  18427.949219  18282.000000   \n",
       "2022-11-16 00:00:00+05:30  18398.250000  18442.150391  18344.150391   \n",
       "2022-11-17 00:00:00+05:30  18358.699219  18417.599609  18312.949219   \n",
       "\n",
       "                                  Close  Volume  Dividends  Stock Splits  \n",
       "Date                                                                      \n",
       "2007-09-17 00:00:00+05:30   4494.649902       0          0             0  \n",
       "2007-09-18 00:00:00+05:30   4546.200195       0          0             0  \n",
       "2007-09-19 00:00:00+05:30   4732.350098       0          0             0  \n",
       "2007-09-20 00:00:00+05:30   4747.549805       0          0             0  \n",
       "2007-09-21 00:00:00+05:30   4837.549805       0          0             0  \n",
       "...                                 ...     ...        ...           ...  \n",
       "2022-11-11 00:00:00+05:30  18349.699219  378500          0             0  \n",
       "2022-11-14 00:00:00+05:30  18329.150391  301400          0             0  \n",
       "2022-11-15 00:00:00+05:30  18403.400391  250900          0             0  \n",
       "2022-11-16 00:00:00+05:30  18409.650391  219300          0             0  \n",
       "2022-11-17 00:00:00+05:30  18343.900391       0          0             0  \n",
       "\n",
       "[3716 rows x 7 columns]>"
      ]
     },
     "execution_count": 9,
     "metadata": {},
     "output_type": "execute_result"
    }
   ],
   "source": [
    "nifty50.head"
   ]
  },
  {
   "cell_type": "code",
   "execution_count": 10,
   "id": "520b717f",
   "metadata": {},
   "outputs": [],
   "source": [
    "del nifty50['Stock Splits']"
   ]
  },
  {
   "cell_type": "markdown",
   "id": "3809f7d8",
   "metadata": {},
   "source": [
    "#### organized data"
   ]
  },
  {
   "cell_type": "code",
   "execution_count": 11,
   "id": "190e3394",
   "metadata": {
    "scrolled": true
   },
   "outputs": [
    {
     "data": {
      "text/html": [
       "<div>\n",
       "<style scoped>\n",
       "    .dataframe tbody tr th:only-of-type {\n",
       "        vertical-align: middle;\n",
       "    }\n",
       "\n",
       "    .dataframe tbody tr th {\n",
       "        vertical-align: top;\n",
       "    }\n",
       "\n",
       "    .dataframe thead th {\n",
       "        text-align: right;\n",
       "    }\n",
       "</style>\n",
       "<table border=\"1\" class=\"dataframe\">\n",
       "  <thead>\n",
       "    <tr style=\"text-align: right;\">\n",
       "      <th></th>\n",
       "      <th>Open</th>\n",
       "      <th>High</th>\n",
       "      <th>Low</th>\n",
       "      <th>Close</th>\n",
       "      <th>Volume</th>\n",
       "      <th>Dividends</th>\n",
       "    </tr>\n",
       "    <tr>\n",
       "      <th>Date</th>\n",
       "      <th></th>\n",
       "      <th></th>\n",
       "      <th></th>\n",
       "      <th></th>\n",
       "      <th></th>\n",
       "      <th></th>\n",
       "    </tr>\n",
       "  </thead>\n",
       "  <tbody>\n",
       "    <tr>\n",
       "      <th>2007-09-17 00:00:00+05:30</th>\n",
       "      <td>4518.450195</td>\n",
       "      <td>4549.049805</td>\n",
       "      <td>4482.850098</td>\n",
       "      <td>4494.649902</td>\n",
       "      <td>0</td>\n",
       "      <td>0</td>\n",
       "    </tr>\n",
       "    <tr>\n",
       "      <th>2007-09-18 00:00:00+05:30</th>\n",
       "      <td>4494.100098</td>\n",
       "      <td>4551.799805</td>\n",
       "      <td>4481.549805</td>\n",
       "      <td>4546.200195</td>\n",
       "      <td>0</td>\n",
       "      <td>0</td>\n",
       "    </tr>\n",
       "    <tr>\n",
       "      <th>2007-09-19 00:00:00+05:30</th>\n",
       "      <td>4550.250000</td>\n",
       "      <td>4739.000000</td>\n",
       "      <td>4550.250000</td>\n",
       "      <td>4732.350098</td>\n",
       "      <td>0</td>\n",
       "      <td>0</td>\n",
       "    </tr>\n",
       "    <tr>\n",
       "      <th>2007-09-20 00:00:00+05:30</th>\n",
       "      <td>4734.850098</td>\n",
       "      <td>4760.850098</td>\n",
       "      <td>4721.149902</td>\n",
       "      <td>4747.549805</td>\n",
       "      <td>0</td>\n",
       "      <td>0</td>\n",
       "    </tr>\n",
       "    <tr>\n",
       "      <th>2007-09-21 00:00:00+05:30</th>\n",
       "      <td>4752.950195</td>\n",
       "      <td>4855.700195</td>\n",
       "      <td>4733.700195</td>\n",
       "      <td>4837.549805</td>\n",
       "      <td>0</td>\n",
       "      <td>0</td>\n",
       "    </tr>\n",
       "    <tr>\n",
       "      <th>...</th>\n",
       "      <td>...</td>\n",
       "      <td>...</td>\n",
       "      <td>...</td>\n",
       "      <td>...</td>\n",
       "      <td>...</td>\n",
       "      <td>...</td>\n",
       "    </tr>\n",
       "    <tr>\n",
       "      <th>2022-11-11 00:00:00+05:30</th>\n",
       "      <td>18272.349609</td>\n",
       "      <td>18362.300781</td>\n",
       "      <td>18259.349609</td>\n",
       "      <td>18349.699219</td>\n",
       "      <td>378500</td>\n",
       "      <td>0</td>\n",
       "    </tr>\n",
       "    <tr>\n",
       "      <th>2022-11-14 00:00:00+05:30</th>\n",
       "      <td>18376.400391</td>\n",
       "      <td>18399.449219</td>\n",
       "      <td>18311.400391</td>\n",
       "      <td>18329.150391</td>\n",
       "      <td>301400</td>\n",
       "      <td>0</td>\n",
       "    </tr>\n",
       "    <tr>\n",
       "      <th>2022-11-15 00:00:00+05:30</th>\n",
       "      <td>18362.750000</td>\n",
       "      <td>18427.949219</td>\n",
       "      <td>18282.000000</td>\n",
       "      <td>18403.400391</td>\n",
       "      <td>250900</td>\n",
       "      <td>0</td>\n",
       "    </tr>\n",
       "    <tr>\n",
       "      <th>2022-11-16 00:00:00+05:30</th>\n",
       "      <td>18398.250000</td>\n",
       "      <td>18442.150391</td>\n",
       "      <td>18344.150391</td>\n",
       "      <td>18409.650391</td>\n",
       "      <td>219300</td>\n",
       "      <td>0</td>\n",
       "    </tr>\n",
       "    <tr>\n",
       "      <th>2022-11-17 00:00:00+05:30</th>\n",
       "      <td>18358.699219</td>\n",
       "      <td>18417.599609</td>\n",
       "      <td>18312.949219</td>\n",
       "      <td>18343.900391</td>\n",
       "      <td>0</td>\n",
       "      <td>0</td>\n",
       "    </tr>\n",
       "  </tbody>\n",
       "</table>\n",
       "<p>3716 rows × 6 columns</p>\n",
       "</div>"
      ],
      "text/plain": [
       "                                   Open          High           Low  \\\n",
       "Date                                                                  \n",
       "2007-09-17 00:00:00+05:30   4518.450195   4549.049805   4482.850098   \n",
       "2007-09-18 00:00:00+05:30   4494.100098   4551.799805   4481.549805   \n",
       "2007-09-19 00:00:00+05:30   4550.250000   4739.000000   4550.250000   \n",
       "2007-09-20 00:00:00+05:30   4734.850098   4760.850098   4721.149902   \n",
       "2007-09-21 00:00:00+05:30   4752.950195   4855.700195   4733.700195   \n",
       "...                                 ...           ...           ...   \n",
       "2022-11-11 00:00:00+05:30  18272.349609  18362.300781  18259.349609   \n",
       "2022-11-14 00:00:00+05:30  18376.400391  18399.449219  18311.400391   \n",
       "2022-11-15 00:00:00+05:30  18362.750000  18427.949219  18282.000000   \n",
       "2022-11-16 00:00:00+05:30  18398.250000  18442.150391  18344.150391   \n",
       "2022-11-17 00:00:00+05:30  18358.699219  18417.599609  18312.949219   \n",
       "\n",
       "                                  Close  Volume  Dividends  \n",
       "Date                                                        \n",
       "2007-09-17 00:00:00+05:30   4494.649902       0          0  \n",
       "2007-09-18 00:00:00+05:30   4546.200195       0          0  \n",
       "2007-09-19 00:00:00+05:30   4732.350098       0          0  \n",
       "2007-09-20 00:00:00+05:30   4747.549805       0          0  \n",
       "2007-09-21 00:00:00+05:30   4837.549805       0          0  \n",
       "...                                 ...     ...        ...  \n",
       "2022-11-11 00:00:00+05:30  18349.699219  378500          0  \n",
       "2022-11-14 00:00:00+05:30  18329.150391  301400          0  \n",
       "2022-11-15 00:00:00+05:30  18403.400391  250900          0  \n",
       "2022-11-16 00:00:00+05:30  18409.650391  219300          0  \n",
       "2022-11-17 00:00:00+05:30  18343.900391       0          0  \n",
       "\n",
       "[3716 rows x 6 columns]"
      ]
     },
     "execution_count": 11,
     "metadata": {},
     "output_type": "execute_result"
    }
   ],
   "source": [
    "nifty50"
   ]
  },
  {
   "cell_type": "code",
   "execution_count": 12,
   "id": "2c3d81f0",
   "metadata": {},
   "outputs": [
    {
     "data": {
      "text/plain": [
       "(3716, 6)"
      ]
     },
     "execution_count": 12,
     "metadata": {},
     "output_type": "execute_result"
    }
   ],
   "source": [
    "nifty50.shape"
   ]
  },
  {
   "cell_type": "markdown",
   "id": "05a661f4",
   "metadata": {},
   "source": [
    "## About index data"
   ]
  },
  {
   "cell_type": "markdown",
   "id": "eca9d31e",
   "metadata": {},
   "source": [
    "- Column1 - Date\n",
    "- Column2 - Open price on respective date.\n",
    "- Column3 - Highest price achived on that day.\n",
    "- Column4 - Lowest price on that respective day.\n",
    "- Column5 - Closing price of day.\n",
    "- Column6 - Volumn traded on that day."
   ]
  },
  {
   "cell_type": "markdown",
   "id": "529d2a07",
   "metadata": {},
   "source": [
    "## Data cleaning"
   ]
  },
  {
   "cell_type": "markdown",
   "id": "5d6502cc",
   "metadata": {},
   "source": [
    "#### Their is no need to do further data cleaning because,\n",
    "\n",
    "- data has no missing values.\n",
    "- data has no outliers.\n",
    "- data has no duplicate values because index is based on date and we know date is different for each day."
   ]
  },
  {
   "cell_type": "markdown",
   "id": "0cc5842f",
   "metadata": {},
   "source": [
    "## Primary Visualization"
   ]
  },
  {
   "cell_type": "markdown",
   "id": "01c76e3c",
   "metadata": {},
   "source": [
    "### Close price VS Date"
   ]
  },
  {
   "cell_type": "code",
   "execution_count": 14,
   "id": "b95b2683",
   "metadata": {},
   "outputs": [
    {
     "data": {
      "image/png": "[encoded data removed]",
      "text/plain": [
       "<Figure size 1080x576 with 1 Axes>"
      ]
     },
     "metadata": {
      "needs_background": "light"
     },
     "output_type": "display_data"
    }
   ],
   "source": [
    "nifty50['Close'].plot(label = 'Nifty50',figsize=(15,8),color='c')\n",
    "plt.legend()\n",
    "plt.title('Nifty50 price VS Date')\n",
    "plt.ylabel('Nifty50 Price')\n",
    "plt.show()"
   ]
  },
  {
   "cell_type": "markdown",
   "id": "48fcfdc6",
   "metadata": {},
   "source": [
    "### Volume VS Date"
   ]
  },
  {
   "cell_type": "code",
   "execution_count": 15,
   "id": "d078112a",
   "metadata": {
    "scrolled": true
   },
   "outputs": [
    {
     "data": {
      "image/png": "[encoded data removed]",
      "text/plain": [
       "<Figure size 1080x576 with 1 Axes>"
      ]
     },
     "metadata": {
      "needs_background": "light"
     },
     "output_type": "display_data"
    }
   ],
   "source": [
    "nifty50['Volume'].plot(label = 'Volume',figsize=(15,8),color='c')\n",
    "plt.legend()\n",
    "plt.title('Volume traded VS Date')\n",
    "plt.ylabel('Volume traded')\n",
    "plt.show()"
   ]
  },
  {
   "cell_type": "markdown",
   "id": "a87d764b",
   "metadata": {},
   "source": [
    "### Moving averages graph"
   ]
  },
  {
   "cell_type": "code",
   "execution_count": 16,
   "id": "37995c5d",
   "metadata": {},
   "outputs": [],
   "source": [
    "ma_day = [5, 10, 20]\n",
    "\n",
    "for i in ma_day:\n",
    "    column_name = f\"MA for {i} days\"\n",
    "    nifty50[column_name] = nifty50['Close'].rolling(i).mean()"
   ]
  },
  {
   "cell_type": "code",
   "execution_count": 17,
   "id": "9fa66111",
   "metadata": {},
   "outputs": [
    {
     "data": {
      "image/png": "[encoded data removed]",
      "text/plain": [
       "<Figure size 1080x576 with 4 Axes>"
      ]
     },
     "metadata": {
      "needs_background": "light"
     },
     "output_type": "display_data"
    }
   ],
   "source": [
    "fig, axes = plt.subplots(nrows=2, ncols=2)\n",
    "fig.set_figheight(8)\n",
    "fig.set_figwidth(15)\n",
    "\n",
    "nifty50[['Close', 'MA for 5 days', 'MA for 10 days', 'MA for 20 days']].plot(ax=axes[0,0])\n",
    "axes[0,0].set_title('Adj price moving averages')\n",
    "\n",
    "nifty50[['Open', 'MA for 5 days', 'MA for 10 days', 'MA for 20 days']].plot(ax=axes[0,1])\n",
    "axes[0,1].set_title('Open price moving averages')\n",
    "\n",
    "nifty50[['High', 'MA for 5 days', 'MA for 10 days', 'MA for 20 days']].plot(ax=axes[1,0])\n",
    "axes[1,0].set_title('High price moving averages')\n",
    "\n",
    "nifty50[['Low', 'MA for 5 days', 'MA for 10 days', 'MA for 20 days']].plot(ax=axes[1,1])\n",
    "axes[1,1].set_title('Low price moving averages')\n",
    "\n",
    "fig.tight_layout()"
   ]
  },
  {
   "cell_type": "markdown",
   "id": "440b3052",
   "metadata": {},
   "source": [
    "## Data rearrangement for analysis"
   ]
  },
  {
   "cell_type": "code",
   "execution_count": 18,
   "id": "6b8b1943",
   "metadata": {},
   "outputs": [],
   "source": [
    "nifty50['Tomorrow'] = nifty50['Close'].shift(-1)"
   ]
  },
  {
   "cell_type": "code",
   "execution_count": 19,
   "id": "b1cea760",
   "metadata": {},
   "outputs": [],
   "source": [
    "nifty50['Target'] = (nifty50['Tomorrow'] > nifty50['Close']).astype(int) "
   ]
  },
  {
   "cell_type": "code",
   "execution_count": 20,
   "id": "fb162274",
   "metadata": {
    "scrolled": true
   },
   "outputs": [
    {
     "data": {
      "text/html": [
       "<div>\n",
       "<style scoped>\n",
       "    .dataframe tbody tr th:only-of-type {\n",
       "        vertical-align: middle;\n",
       "    }\n",
       "\n",
       "    .dataframe tbody tr th {\n",
       "        vertical-align: top;\n",
       "    }\n",
       "\n",
       "    .dataframe thead th {\n",
       "        text-align: right;\n",
       "    }\n",
       "</style>\n",
       "<table border=\"1\" class=\"dataframe\">\n",
       "  <thead>\n",
       "    <tr style=\"text-align: right;\">\n",
       "      <th></th>\n",
       "      <th>Open</th>\n",
       "      <th>High</th>\n",
       "      <th>Low</th>\n",
       "      <th>Close</th>\n",
       "      <th>Volume</th>\n",
       "      <th>Dividends</th>\n",
       "      <th>MA for 5 days</th>\n",
       "      <th>MA for 10 days</th>\n",
       "      <th>MA for 20 days</th>\n",
       "      <th>Tomorrow</th>\n",
       "      <th>Target</th>\n",
       "    </tr>\n",
       "    <tr>\n",
       "      <th>Date</th>\n",
       "      <th></th>\n",
       "      <th></th>\n",
       "      <th></th>\n",
       "      <th></th>\n",
       "      <th></th>\n",
       "      <th></th>\n",
       "      <th></th>\n",
       "      <th></th>\n",
       "      <th></th>\n",
       "      <th></th>\n",
       "      <th></th>\n",
       "    </tr>\n",
       "  </thead>\n",
       "  <tbody>\n",
       "    <tr>\n",
       "      <th>2007-09-17 00:00:00+05:30</th>\n",
       "      <td>4518.450195</td>\n",
       "      <td>4549.049805</td>\n",
       "      <td>4482.850098</td>\n",
       "      <td>4494.649902</td>\n",
       "      <td>0</td>\n",
       "      <td>0</td>\n",
       "      <td>NaN</td>\n",
       "      <td>NaN</td>\n",
       "      <td>NaN</td>\n",
       "      <td>4546.200195</td>\n",
       "      <td>1</td>\n",
       "    </tr>\n",
       "    <tr>\n",
       "      <th>2007-09-18 00:00:00+05:30</th>\n",
       "      <td>4494.100098</td>\n",
       "      <td>4551.799805</td>\n",
       "      <td>4481.549805</td>\n",
       "      <td>4546.200195</td>\n",
       "      <td>0</td>\n",
       "      <td>0</td>\n",
       "      <td>NaN</td>\n",
       "      <td>NaN</td>\n",
       "      <td>NaN</td>\n",
       "      <td>4732.350098</td>\n",
       "      <td>1</td>\n",
       "    </tr>\n",
       "    <tr>\n",
       "      <th>2007-09-19 00:00:00+05:30</th>\n",
       "      <td>4550.250000</td>\n",
       "      <td>4739.000000</td>\n",
       "      <td>4550.250000</td>\n",
       "      <td>4732.350098</td>\n",
       "      <td>0</td>\n",
       "      <td>0</td>\n",
       "      <td>NaN</td>\n",
       "      <td>NaN</td>\n",
       "      <td>NaN</td>\n",
       "      <td>4747.549805</td>\n",
       "      <td>1</td>\n",
       "    </tr>\n",
       "    <tr>\n",
       "      <th>2007-09-20 00:00:00+05:30</th>\n",
       "      <td>4734.850098</td>\n",
       "      <td>4760.850098</td>\n",
       "      <td>4721.149902</td>\n",
       "      <td>4747.549805</td>\n",
       "      <td>0</td>\n",
       "      <td>0</td>\n",
       "      <td>NaN</td>\n",
       "      <td>NaN</td>\n",
       "      <td>NaN</td>\n",
       "      <td>4837.549805</td>\n",
       "      <td>1</td>\n",
       "    </tr>\n",
       "    <tr>\n",
       "      <th>2007-09-21 00:00:00+05:30</th>\n",
       "      <td>4752.950195</td>\n",
       "      <td>4855.700195</td>\n",
       "      <td>4733.700195</td>\n",
       "      <td>4837.549805</td>\n",
       "      <td>0</td>\n",
       "      <td>0</td>\n",
       "      <td>4671.659961</td>\n",
       "      <td>NaN</td>\n",
       "      <td>NaN</td>\n",
       "      <td>4932.200195</td>\n",
       "      <td>1</td>\n",
       "    </tr>\n",
       "    <tr>\n",
       "      <th>...</th>\n",
       "      <td>...</td>\n",
       "      <td>...</td>\n",
       "      <td>...</td>\n",
       "      <td>...</td>\n",
       "      <td>...</td>\n",
       "      <td>...</td>\n",
       "      <td>...</td>\n",
       "      <td>...</td>\n",
       "      <td>...</td>\n",
       "      <td>...</td>\n",
       "      <td>...</td>\n",
       "    </tr>\n",
       "    <tr>\n",
       "      <th>2022-11-11 00:00:00+05:30</th>\n",
       "      <td>18272.349609</td>\n",
       "      <td>18362.300781</td>\n",
       "      <td>18259.349609</td>\n",
       "      <td>18349.699219</td>\n",
       "      <td>378500</td>\n",
       "      <td>0</td>\n",
       "      <td>18170.969922</td>\n",
       "      <td>18093.479883</td>\n",
       "      <td>17785.507324</td>\n",
       "      <td>18329.150391</td>\n",
       "      <td>0</td>\n",
       "    </tr>\n",
       "    <tr>\n",
       "      <th>2022-11-14 00:00:00+05:30</th>\n",
       "      <td>18376.400391</td>\n",
       "      <td>18399.449219</td>\n",
       "      <td>18311.400391</td>\n",
       "      <td>18329.150391</td>\n",
       "      <td>301400</td>\n",
       "      <td>0</td>\n",
       "      <td>18213.369922</td>\n",
       "      <td>18147.714844</td>\n",
       "      <td>17851.247363</td>\n",
       "      <td>18403.400391</td>\n",
       "      <td>1</td>\n",
       "    </tr>\n",
       "    <tr>\n",
       "      <th>2022-11-15 00:00:00+05:30</th>\n",
       "      <td>18362.750000</td>\n",
       "      <td>18427.949219</td>\n",
       "      <td>18282.000000</td>\n",
       "      <td>18403.400391</td>\n",
       "      <td>250900</td>\n",
       "      <td>0</td>\n",
       "      <td>18253.489844</td>\n",
       "      <td>18186.834961</td>\n",
       "      <td>17912.132422</td>\n",
       "      <td>18409.650391</td>\n",
       "      <td>1</td>\n",
       "    </tr>\n",
       "    <tr>\n",
       "      <th>2022-11-16 00:00:00+05:30</th>\n",
       "      <td>18398.250000</td>\n",
       "      <td>18442.150391</td>\n",
       "      <td>18344.150391</td>\n",
       "      <td>18409.650391</td>\n",
       "      <td>219300</td>\n",
       "      <td>0</td>\n",
       "      <td>18304.019922</td>\n",
       "      <td>18213.259961</td>\n",
       "      <td>17967.024902</td>\n",
       "      <td>18343.900391</td>\n",
       "      <td>0</td>\n",
       "    </tr>\n",
       "    <tr>\n",
       "      <th>2022-11-17 00:00:00+05:30</th>\n",
       "      <td>18358.699219</td>\n",
       "      <td>18417.599609</td>\n",
       "      <td>18312.949219</td>\n",
       "      <td>18343.900391</td>\n",
       "      <td>0</td>\n",
       "      <td>0</td>\n",
       "      <td>18367.160156</td>\n",
       "      <td>18239.365039</td>\n",
       "      <td>18009.872461</td>\n",
       "      <td>NaN</td>\n",
       "      <td>0</td>\n",
       "    </tr>\n",
       "  </tbody>\n",
       "</table>\n",
       "<p>3716 rows × 11 columns</p>\n",
       "</div>"
      ],
      "text/plain": [
       "                                   Open          High           Low  \\\n",
       "Date                                                                  \n",
       "2007-09-17 00:00:00+05:30   4518.450195   4549.049805   4482.850098   \n",
       "2007-09-18 00:00:00+05:30   4494.100098   4551.799805   4481.549805   \n",
       "2007-09-19 00:00:00+05:30   4550.250000   4739.000000   4550.250000   \n",
       "2007-09-20 00:00:00+05:30   4734.850098   4760.850098   4721.149902   \n",
       "2007-09-21 00:00:00+05:30   4752.950195   4855.700195   4733.700195   \n",
       "...                                 ...           ...           ...   \n",
       "2022-11-11 00:00:00+05:30  18272.349609  18362.300781  18259.349609   \n",
       "2022-11-14 00:00:00+05:30  18376.400391  18399.449219  18311.400391   \n",
       "2022-11-15 00:00:00+05:30  18362.750000  18427.949219  18282.000000   \n",
       "2022-11-16 00:00:00+05:30  18398.250000  18442.150391  18344.150391   \n",
       "2022-11-17 00:00:00+05:30  18358.699219  18417.599609  18312.949219   \n",
       "\n",
       "                                  Close  Volume  Dividends  MA for 5 days  \\\n",
       "Date                                                                        \n",
       "2007-09-17 00:00:00+05:30   4494.649902       0          0            NaN   \n",
       "2007-09-18 00:00:00+05:30   4546.200195       0          0            NaN   \n",
       "2007-09-19 00:00:00+05:30   4732.350098       0          0            NaN   \n",
       "2007-09-20 00:00:00+05:30   4747.549805       0          0            NaN   \n",
       "2007-09-21 00:00:00+05:30   4837.549805       0          0    4671.659961   \n",
       "...                                 ...     ...        ...            ...   \n",
       "2022-11-11 00:00:00+05:30  18349.699219  378500          0   18170.969922   \n",
       "2022-11-14 00:00:00+05:30  18329.150391  301400          0   18213.369922   \n",
       "2022-11-15 00:00:00+05:30  18403.400391  250900          0   18253.489844   \n",
       "2022-11-16 00:00:00+05:30  18409.650391  219300          0   18304.019922   \n",
       "2022-11-17 00:00:00+05:30  18343.900391       0          0   18367.160156   \n",
       "\n",
       "                           MA for 10 days  MA for 20 days      Tomorrow  \\\n",
       "Date                                                                      \n",
       "2007-09-17 00:00:00+05:30             NaN             NaN   4546.200195   \n",
       "2007-09-18 00:00:00+05:30             NaN             NaN   4732.350098   \n",
       "2007-09-19 00:00:00+05:30             NaN             NaN   4747.549805   \n",
       "2007-09-20 00:00:00+05:30             NaN             NaN   4837.549805   \n",
       "2007-09-21 00:00:00+05:30             NaN             NaN   4932.200195   \n",
       "...                                   ...             ...           ...   \n",
       "2022-11-11 00:00:00+05:30    18093.479883    17785.507324  18329.150391   \n",
       "2022-11-14 00:00:00+05:30    18147.714844    17851.247363  18403.400391   \n",
       "2022-11-15 00:00:00+05:30    18186.834961    17912.132422  18409.650391   \n",
       "2022-11-16 00:00:00+05:30    18213.259961    17967.024902  18343.900391   \n",
       "2022-11-17 00:00:00+05:30    18239.365039    18009.872461           NaN   \n",
       "\n",
       "                           Target  \n",
       "Date                               \n",
       "2007-09-17 00:00:00+05:30       1  \n",
       "2007-09-18 00:00:00+05:30       1  \n",
       "2007-09-19 00:00:00+05:30       1  \n",
       "2007-09-20 00:00:00+05:30       1  \n",
       "2007-09-21 00:00:00+05:30       1  \n",
       "...                           ...  \n",
       "2022-11-11 00:00:00+05:30       0  \n",
       "2022-11-14 00:00:00+05:30       1  \n",
       "2022-11-15 00:00:00+05:30       1  \n",
       "2022-11-16 00:00:00+05:30       0  \n",
       "2022-11-17 00:00:00+05:30       0  \n",
       "\n",
       "[3716 rows x 11 columns]"
      ]
     },
     "execution_count": 20,
     "metadata": {},
     "output_type": "execute_result"
    }
   ],
   "source": [
    "nifty50"
   ]
  },
  {
   "cell_type": "markdown",
   "id": "e4a60efc",
   "metadata": {},
   "source": [
    "## We use, \n",
    "\n",
    "### Machine learning model names :\n",
    "\n",
    "- Decision tree model\n",
    "- K-nearest neighbours model\n",
    "- Logistic regression model\n",
    "- Naive bayes model\n",
    "- Random forest classification model\n",
    "- Support vector classification model\n",
    "\n",
    "### Ensemble model names :\n",
    "\n",
    "- Adaboosting for classification\n",
    "- Gradient boosting for classification"
   ]
  },
  {
   "cell_type": "markdown",
   "id": "0bd146ae",
   "metadata": {},
   "source": [
    "## Let's start"
   ]
  },
  {
   "cell_type": "markdown",
   "id": "628f12a4",
   "metadata": {},
   "source": [
    "### (1) Decision tree"
   ]
  },
  {
   "cell_type": "code",
   "execution_count": 21,
   "id": "0dcd9c7d",
   "metadata": {},
   "outputs": [
    {
     "data": {
      "text/html": [
       "<div>\n",
       "<style scoped>\n",
       "    .dataframe tbody tr th:only-of-type {\n",
       "        vertical-align: middle;\n",
       "    }\n",
       "\n",
       "    .dataframe tbody tr th {\n",
       "        vertical-align: top;\n",
       "    }\n",
       "\n",
       "    .dataframe thead th {\n",
       "        text-align: right;\n",
       "    }\n",
       "</style>\n",
       "<table border=\"1\" class=\"dataframe\">\n",
       "  <thead>\n",
       "    <tr style=\"text-align: right;\">\n",
       "      <th></th>\n",
       "      <th>testing_points</th>\n",
       "      <th>best_params</th>\n",
       "      <th>pred_score</th>\n",
       "    </tr>\n",
       "  </thead>\n",
       "  <tbody>\n",
       "    <tr>\n",
       "      <th>0</th>\n",
       "      <td>200</td>\n",
       "      <td>{'max_depth': 8, 'max_features': 'sqrt', 'spli...</td>\n",
       "      <td>0.484277</td>\n",
       "    </tr>\n",
       "    <tr>\n",
       "      <th>1</th>\n",
       "      <td>400</td>\n",
       "      <td>{'max_depth': 8, 'max_features': 'sqrt', 'spli...</td>\n",
       "      <td>0.615385</td>\n",
       "    </tr>\n",
       "    <tr>\n",
       "      <th>2</th>\n",
       "      <td>600</td>\n",
       "      <td>{'max_depth': 8, 'max_features': 'sqrt', 'spli...</td>\n",
       "      <td>0.697674</td>\n",
       "    </tr>\n",
       "    <tr>\n",
       "      <th>3</th>\n",
       "      <td>800</td>\n",
       "      <td>{'max_depth': 8, 'max_features': 'sqrt', 'spli...</td>\n",
       "      <td>0.582160</td>\n",
       "    </tr>\n",
       "    <tr>\n",
       "      <th>4</th>\n",
       "      <td>1000</td>\n",
       "      <td>{'max_depth': 16, 'max_features': 'sqrt', 'spl...</td>\n",
       "      <td>0.568493</td>\n",
       "    </tr>\n",
       "    <tr>\n",
       "      <th>5</th>\n",
       "      <td>1200</td>\n",
       "      <td>{'max_depth': 8, 'max_features': 'sqrt', 'spli...</td>\n",
       "      <td>0.566667</td>\n",
       "    </tr>\n",
       "  </tbody>\n",
       "</table>\n",
       "</div>"
      ],
      "text/plain": [
       "   testing_points                                        best_params  \\\n",
       "0             200  {'max_depth': 8, 'max_features': 'sqrt', 'spli...   \n",
       "1             400  {'max_depth': 8, 'max_features': 'sqrt', 'spli...   \n",
       "2             600  {'max_depth': 8, 'max_features': 'sqrt', 'spli...   \n",
       "3             800  {'max_depth': 8, 'max_features': 'sqrt', 'spli...   \n",
       "4            1000  {'max_depth': 16, 'max_features': 'sqrt', 'spl...   \n",
       "5            1200  {'max_depth': 8, 'max_features': 'sqrt', 'spli...   \n",
       "\n",
       "   pred_score  \n",
       "0    0.484277  \n",
       "1    0.615385  \n",
       "2    0.697674  \n",
       "3    0.582160  \n",
       "4    0.568493  \n",
       "5    0.566667  "
      ]
     },
     "execution_count": 21,
     "metadata": {},
     "output_type": "execute_result"
    }
   ],
   "source": [
    "from sklearn.metrics import precision_score\n",
    "from sklearn.tree import DecisionTreeClassifier\n",
    "from sklearn.model_selection import GridSearchCV\n",
    "import pandas as pd\n",
    "\n",
    "scores_1 = []\n",
    "\n",
    "for i in range(6):\n",
    "    params = {\n",
    "        'splitter' : ['best','random'],\n",
    "        'max_depth':[8,16,32],\n",
    "        'max_features':['sqrt','log2','auto']\n",
    "    }\n",
    "    \n",
    "    random_grid = GridSearchCV(estimator=DecisionTreeClassifier(random_state=40),param_grid=params,cv=4,n_jobs=4)\n",
    "    \n",
    "    train = nifty50.iloc[:-200*(i+1)]\n",
    "    test = nifty50.iloc[-200*(i+1):]\n",
    "    \n",
    "    predictors = ['Close','Volume','Open','High','Low']\n",
    "    random_grid.fit(train[predictors],train['Target'])\n",
    "    \n",
    "    preds = random_grid.predict(test[predictors])\n",
    "    \n",
    "    preds = pd.Series(preds,index=test.index)\n",
    "    \n",
    "    score = precision_score(test['Target'], preds)\n",
    "    \n",
    "    scores_1.append({\n",
    "        'testing_points':200*(i+1),\n",
    "        'best_params':random_grid.best_params_,\n",
    "        'pred_score':score\n",
    "    })\n",
    "    \n",
    "dataframe = pd.DataFrame(scores_1,columns=['testing_points','best_params','pred_score'])\n",
    "dataframe"
   ]
  },
  {
   "cell_type": "code",
   "execution_count": 22,
   "id": "92497b2b",
   "metadata": {},
   "outputs": [
    {
     "name": "stdout",
     "output_type": "stream",
     "text": [
      "Average accuracy of above model :  0.585775867552293\n"
     ]
    }
   ],
   "source": [
    "import numpy as np\n",
    "\n",
    "a = dataframe.pred_score\n",
    "print('Average accuracy of above model : ', np.average(a))"
   ]
  },
  {
   "cell_type": "code",
   "execution_count": 23,
   "id": "a0ded192",
   "metadata": {},
   "outputs": [
    {
     "name": "stdout",
     "output_type": "stream",
     "text": [
      "best params for estimators :  {'max_depth': 8, 'max_features': 'sqrt', 'splitter': 'best'}\n",
      "pred_score :  0.6976744186046512\n"
     ]
    }
   ],
   "source": [
    "print('best params for estimators : ', dataframe.best_params[2])\n",
    "print('pred_score : ', dataframe.pred_score[2])"
   ]
  },
  {
   "cell_type": "markdown",
   "id": "ef97253c",
   "metadata": {},
   "source": [
    "### (2) K-nearest neighbours"
   ]
  },
  {
   "cell_type": "code",
   "execution_count": 24,
   "id": "941030c4",
   "metadata": {},
   "outputs": [
    {
     "data": {
      "text/html": [
       "<div>\n",
       "<style scoped>\n",
       "    .dataframe tbody tr th:only-of-type {\n",
       "        vertical-align: middle;\n",
       "    }\n",
       "\n",
       "    .dataframe tbody tr th {\n",
       "        vertical-align: top;\n",
       "    }\n",
       "\n",
       "    .dataframe thead th {\n",
       "        text-align: right;\n",
       "    }\n",
       "</style>\n",
       "<table border=\"1\" class=\"dataframe\">\n",
       "  <thead>\n",
       "    <tr style=\"text-align: right;\">\n",
       "      <th></th>\n",
       "      <th>testing_points</th>\n",
       "      <th>best_params</th>\n",
       "      <th>pred_score</th>\n",
       "    </tr>\n",
       "  </thead>\n",
       "  <tbody>\n",
       "    <tr>\n",
       "      <th>0</th>\n",
       "      <td>200</td>\n",
       "      <td>{'leaf_size': 20, 'n_neighbors': 8, 'weights':...</td>\n",
       "      <td>0.475410</td>\n",
       "    </tr>\n",
       "    <tr>\n",
       "      <th>1</th>\n",
       "      <td>400</td>\n",
       "      <td>{'leaf_size': 20, 'n_neighbors': 4, 'weights':...</td>\n",
       "      <td>0.521368</td>\n",
       "    </tr>\n",
       "    <tr>\n",
       "      <th>2</th>\n",
       "      <td>600</td>\n",
       "      <td>{'leaf_size': 20, 'n_neighbors': 4, 'weights':...</td>\n",
       "      <td>0.566308</td>\n",
       "    </tr>\n",
       "    <tr>\n",
       "      <th>3</th>\n",
       "      <td>800</td>\n",
       "      <td>{'leaf_size': 20, 'n_neighbors': 4, 'weights':...</td>\n",
       "      <td>0.551363</td>\n",
       "    </tr>\n",
       "    <tr>\n",
       "      <th>4</th>\n",
       "      <td>1000</td>\n",
       "      <td>{'leaf_size': 20, 'n_neighbors': 4, 'weights':...</td>\n",
       "      <td>0.534783</td>\n",
       "    </tr>\n",
       "    <tr>\n",
       "      <th>5</th>\n",
       "      <td>1200</td>\n",
       "      <td>{'leaf_size': 20, 'n_neighbors': 4, 'weights':...</td>\n",
       "      <td>0.537621</td>\n",
       "    </tr>\n",
       "  </tbody>\n",
       "</table>\n",
       "</div>"
      ],
      "text/plain": [
       "   testing_points                                        best_params  \\\n",
       "0             200  {'leaf_size': 20, 'n_neighbors': 8, 'weights':...   \n",
       "1             400  {'leaf_size': 20, 'n_neighbors': 4, 'weights':...   \n",
       "2             600  {'leaf_size': 20, 'n_neighbors': 4, 'weights':...   \n",
       "3             800  {'leaf_size': 20, 'n_neighbors': 4, 'weights':...   \n",
       "4            1000  {'leaf_size': 20, 'n_neighbors': 4, 'weights':...   \n",
       "5            1200  {'leaf_size': 20, 'n_neighbors': 4, 'weights':...   \n",
       "\n",
       "   pred_score  \n",
       "0    0.475410  \n",
       "1    0.521368  \n",
       "2    0.566308  \n",
       "3    0.551363  \n",
       "4    0.534783  \n",
       "5    0.537621  "
      ]
     },
     "execution_count": 24,
     "metadata": {},
     "output_type": "execute_result"
    }
   ],
   "source": [
    "from sklearn.metrics import precision_score\n",
    "import numpy as np\n",
    "from sklearn.neighbors import KNeighborsClassifier\n",
    "from sklearn.model_selection import GridSearchCV\n",
    "import pandas as pd\n",
    "\n",
    "scores_2 = []\n",
    "\n",
    "for i in range(6):\n",
    "    params = {\n",
    "        'n_neighbors' : [4,8,12],\n",
    "        'weights':['uniform','distance'],\n",
    "        'leaf_size':[20,40]\n",
    "    }\n",
    "    \n",
    "    random_grid = GridSearchCV(estimator=KNeighborsClassifier(),param_grid=params,cv=4,n_jobs=4)\n",
    "    \n",
    "    train = nifty50.iloc[:-200*(i+1)]\n",
    "    test = nifty50.iloc[-200*(i+1):]\n",
    "    \n",
    "    predictors = ['Close','Volume','Open','High','Low']\n",
    "    random_grid.fit(train[predictors],train['Target'])\n",
    "    \n",
    "    preds = random_grid.predict(test[predictors])\n",
    "    \n",
    "    preds = pd.Series(preds,index=test.index)\n",
    "    \n",
    "    score = precision_score(test['Target'], preds)\n",
    "    \n",
    "    scores_2.append({\n",
    "        'testing_points':200*(i+1),\n",
    "        'best_params':random_grid.best_params_,\n",
    "        'pred_score':score\n",
    "    })\n",
    "    \n",
    "dataframe = pd.DataFrame(scores_2,columns=['testing_points','best_params','pred_score'])\n",
    "dataframe"
   ]
  },
  {
   "cell_type": "code",
   "execution_count": 25,
   "id": "bf43b461",
   "metadata": {},
   "outputs": [
    {
     "name": "stdout",
     "output_type": "stream",
     "text": [
      "Average accuracy of above model :  0.5311420420863003\n"
     ]
    }
   ],
   "source": [
    "a = dataframe.pred_score\n",
    "print('Average accuracy of above model : ', np.average(a))"
   ]
  },
  {
   "cell_type": "markdown",
   "id": "45f8d3d7",
   "metadata": {},
   "source": [
    "### (3) Logistic Regression "
   ]
  },
  {
   "cell_type": "code",
   "execution_count": 26,
   "id": "06ccf453",
   "metadata": {},
   "outputs": [
    {
     "name": "stderr",
     "output_type": "stream",
     "text": [
      "C:\\Users\\shamb\\anaconda3\\lib\\site-packages\\sklearn\\model_selection\\_validation.py:372: FitFailedWarning: \n",
      "56 fits failed out of a total of 96.\n",
      "The score on these train-test partitions for these parameters will be set to nan.\n",
      "If these failures are not expected, you can try to debug them by setting error_score='raise'.\n",
      "\n",
      "Below are more details about the failures:\n",
      "--------------------------------------------------------------------------------\n",
      "8 fits failed with the following error:\n",
      "Traceback (most recent call last):\n",
      "  File \"C:\\Users\\shamb\\anaconda3\\lib\\site-packages\\sklearn\\model_selection\\_validation.py\", line 680, in _fit_and_score\n",
      "    estimator.fit(X_train, y_train, **fit_params)\n",
      "  File \"C:\\Users\\shamb\\anaconda3\\lib\\site-packages\\sklearn\\linear_model\\_logistic.py\", line 1461, in fit\n",
      "    solver = _check_solver(self.solver, self.penalty, self.dual)\n",
      "  File \"C:\\Users\\shamb\\anaconda3\\lib\\site-packages\\sklearn\\linear_model\\_logistic.py\", line 447, in _check_solver\n",
      "    raise ValueError(\n",
      "ValueError: Solver newton-cg supports only 'l2' or 'none' penalties, got l1 penalty.\n",
      "\n",
      "--------------------------------------------------------------------------------\n",
      "8 fits failed with the following error:\n",
      "Traceback (most recent call last):\n",
      "  File \"C:\\Users\\shamb\\anaconda3\\lib\\site-packages\\sklearn\\model_selection\\_validation.py\", line 680, in _fit_and_score\n",
      "    estimator.fit(X_train, y_train, **fit_params)\n",
      "  File \"C:\\Users\\shamb\\anaconda3\\lib\\site-packages\\sklearn\\linear_model\\_logistic.py\", line 1461, in fit\n",
      "    solver = _check_solver(self.solver, self.penalty, self.dual)\n",
      "  File \"C:\\Users\\shamb\\anaconda3\\lib\\site-packages\\sklearn\\linear_model\\_logistic.py\", line 447, in _check_solver\n",
      "    raise ValueError(\n",
      "ValueError: Solver lbfgs supports only 'l2' or 'none' penalties, got l1 penalty.\n",
      "\n",
      "--------------------------------------------------------------------------------\n",
      "8 fits failed with the following error:\n",
      "Traceback (most recent call last):\n",
      "  File \"C:\\Users\\shamb\\anaconda3\\lib\\site-packages\\sklearn\\model_selection\\_validation.py\", line 680, in _fit_and_score\n",
      "    estimator.fit(X_train, y_train, **fit_params)\n",
      "  File \"C:\\Users\\shamb\\anaconda3\\lib\\site-packages\\sklearn\\linear_model\\_logistic.py\", line 1461, in fit\n",
      "    solver = _check_solver(self.solver, self.penalty, self.dual)\n",
      "  File \"C:\\Users\\shamb\\anaconda3\\lib\\site-packages\\sklearn\\linear_model\\_logistic.py\", line 447, in _check_solver\n",
      "    raise ValueError(\n",
      "ValueError: Solver sag supports only 'l2' or 'none' penalties, got l1 penalty.\n",
      "\n",
      "--------------------------------------------------------------------------------\n",
      "8 fits failed with the following error:\n",
      "Traceback (most recent call last):\n",
      "  File \"C:\\Users\\shamb\\anaconda3\\lib\\site-packages\\sklearn\\model_selection\\_validation.py\", line 680, in _fit_and_score\n",
      "    estimator.fit(X_train, y_train, **fit_params)\n",
      "  File \"C:\\Users\\shamb\\anaconda3\\lib\\site-packages\\sklearn\\linear_model\\_logistic.py\", line 1461, in fit\n",
      "    solver = _check_solver(self.solver, self.penalty, self.dual)\n",
      "  File \"C:\\Users\\shamb\\anaconda3\\lib\\site-packages\\sklearn\\linear_model\\_logistic.py\", line 447, in _check_solver\n",
      "    raise ValueError(\n",
      "ValueError: Solver newton-cg supports only 'l2' or 'none' penalties, got elasticnet penalty.\n",
      "\n",
      "--------------------------------------------------------------------------------\n",
      "8 fits failed with the following error:\n",
      "Traceback (most recent call last):\n",
      "  File \"C:\\Users\\shamb\\anaconda3\\lib\\site-packages\\sklearn\\model_selection\\_validation.py\", line 680, in _fit_and_score\n",
      "    estimator.fit(X_train, y_train, **fit_params)\n",
      "  File \"C:\\Users\\shamb\\anaconda3\\lib\\site-packages\\sklearn\\linear_model\\_logistic.py\", line 1461, in fit\n",
      "    solver = _check_solver(self.solver, self.penalty, self.dual)\n",
      "  File \"C:\\Users\\shamb\\anaconda3\\lib\\site-packages\\sklearn\\linear_model\\_logistic.py\", line 447, in _check_solver\n",
      "    raise ValueError(\n",
      "ValueError: Solver lbfgs supports only 'l2' or 'none' penalties, got elasticnet penalty.\n",
      "\n",
      "--------------------------------------------------------------------------------\n",
      "8 fits failed with the following error:\n",
      "Traceback (most recent call last):\n",
      "  File \"C:\\Users\\shamb\\anaconda3\\lib\\site-packages\\sklearn\\model_selection\\_validation.py\", line 680, in _fit_and_score\n",
      "    estimator.fit(X_train, y_train, **fit_params)\n",
      "  File \"C:\\Users\\shamb\\anaconda3\\lib\\site-packages\\sklearn\\linear_model\\_logistic.py\", line 1461, in fit\n",
      "    solver = _check_solver(self.solver, self.penalty, self.dual)\n",
      "  File \"C:\\Users\\shamb\\anaconda3\\lib\\site-packages\\sklearn\\linear_model\\_logistic.py\", line 447, in _check_solver\n",
      "    raise ValueError(\n",
      "ValueError: Solver sag supports only 'l2' or 'none' penalties, got elasticnet penalty.\n",
      "\n",
      "--------------------------------------------------------------------------------\n",
      "8 fits failed with the following error:\n",
      "Traceback (most recent call last):\n",
      "  File \"C:\\Users\\shamb\\anaconda3\\lib\\site-packages\\sklearn\\model_selection\\_validation.py\", line 680, in _fit_and_score\n",
      "    estimator.fit(X_train, y_train, **fit_params)\n",
      "  File \"C:\\Users\\shamb\\anaconda3\\lib\\site-packages\\sklearn\\linear_model\\_logistic.py\", line 1461, in fit\n",
      "    solver = _check_solver(self.solver, self.penalty, self.dual)\n",
      "  File \"C:\\Users\\shamb\\anaconda3\\lib\\site-packages\\sklearn\\linear_model\\_logistic.py\", line 457, in _check_solver\n",
      "    raise ValueError(\n",
      "ValueError: Only 'saga' solver supports elasticnet penalty, got solver=liblinear.\n",
      "\n",
      "  warnings.warn(some_fits_failed_message, FitFailedWarning)\n",
      "C:\\Users\\shamb\\anaconda3\\lib\\site-packages\\sklearn\\model_selection\\_search.py:969: UserWarning: One or more of the test scores are non-finite: [       nan        nan        nan 0.52673493 0.52844141 0.53071672\n",
      " 0.53071672 0.52389078        nan        nan        nan        nan\n",
      "        nan        nan        nan 0.52389078 0.5241752  0.53071672\n",
      " 0.53071672 0.52389078        nan        nan        nan        nan]\n",
      "  warnings.warn(\n",
      "C:\\Users\\shamb\\anaconda3\\lib\\site-packages\\sklearn\\model_selection\\_validation.py:372: FitFailedWarning: \n",
      "56 fits failed out of a total of 96.\n",
      "The score on these train-test partitions for these parameters will be set to nan.\n",
      "If these failures are not expected, you can try to debug them by setting error_score='raise'.\n",
      "\n",
      "Below are more details about the failures:\n",
      "--------------------------------------------------------------------------------\n",
      "8 fits failed with the following error:\n",
      "Traceback (most recent call last):\n",
      "  File \"C:\\Users\\shamb\\anaconda3\\lib\\site-packages\\sklearn\\model_selection\\_validation.py\", line 680, in _fit_and_score\n",
      "    estimator.fit(X_train, y_train, **fit_params)\n",
      "  File \"C:\\Users\\shamb\\anaconda3\\lib\\site-packages\\sklearn\\linear_model\\_logistic.py\", line 1461, in fit\n",
      "    solver = _check_solver(self.solver, self.penalty, self.dual)\n",
      "  File \"C:\\Users\\shamb\\anaconda3\\lib\\site-packages\\sklearn\\linear_model\\_logistic.py\", line 447, in _check_solver\n",
      "    raise ValueError(\n",
      "ValueError: Solver newton-cg supports only 'l2' or 'none' penalties, got l1 penalty.\n",
      "\n",
      "--------------------------------------------------------------------------------\n",
      "8 fits failed with the following error:\n",
      "Traceback (most recent call last):\n",
      "  File \"C:\\Users\\shamb\\anaconda3\\lib\\site-packages\\sklearn\\model_selection\\_validation.py\", line 680, in _fit_and_score\n",
      "    estimator.fit(X_train, y_train, **fit_params)\n",
      "  File \"C:\\Users\\shamb\\anaconda3\\lib\\site-packages\\sklearn\\linear_model\\_logistic.py\", line 1461, in fit\n",
      "    solver = _check_solver(self.solver, self.penalty, self.dual)\n",
      "  File \"C:\\Users\\shamb\\anaconda3\\lib\\site-packages\\sklearn\\linear_model\\_logistic.py\", line 447, in _check_solver\n",
      "    raise ValueError(\n",
      "ValueError: Solver lbfgs supports only 'l2' or 'none' penalties, got l1 penalty.\n",
      "\n",
      "--------------------------------------------------------------------------------\n",
      "8 fits failed with the following error:\n",
      "Traceback (most recent call last):\n",
      "  File \"C:\\Users\\shamb\\anaconda3\\lib\\site-packages\\sklearn\\model_selection\\_validation.py\", line 680, in _fit_and_score\n",
      "    estimator.fit(X_train, y_train, **fit_params)\n",
      "  File \"C:\\Users\\shamb\\anaconda3\\lib\\site-packages\\sklearn\\linear_model\\_logistic.py\", line 1461, in fit\n",
      "    solver = _check_solver(self.solver, self.penalty, self.dual)\n",
      "  File \"C:\\Users\\shamb\\anaconda3\\lib\\site-packages\\sklearn\\linear_model\\_logistic.py\", line 447, in _check_solver\n",
      "    raise ValueError(\n",
      "ValueError: Solver sag supports only 'l2' or 'none' penalties, got l1 penalty.\n",
      "\n",
      "--------------------------------------------------------------------------------\n",
      "8 fits failed with the following error:\n",
      "Traceback (most recent call last):\n",
      "  File \"C:\\Users\\shamb\\anaconda3\\lib\\site-packages\\sklearn\\model_selection\\_validation.py\", line 680, in _fit_and_score\n",
      "    estimator.fit(X_train, y_train, **fit_params)\n",
      "  File \"C:\\Users\\shamb\\anaconda3\\lib\\site-packages\\sklearn\\linear_model\\_logistic.py\", line 1461, in fit\n",
      "    solver = _check_solver(self.solver, self.penalty, self.dual)\n",
      "  File \"C:\\Users\\shamb\\anaconda3\\lib\\site-packages\\sklearn\\linear_model\\_logistic.py\", line 447, in _check_solver\n",
      "    raise ValueError(\n",
      "ValueError: Solver newton-cg supports only 'l2' or 'none' penalties, got elasticnet penalty.\n",
      "\n",
      "--------------------------------------------------------------------------------\n",
      "8 fits failed with the following error:\n",
      "Traceback (most recent call last):\n",
      "  File \"C:\\Users\\shamb\\anaconda3\\lib\\site-packages\\sklearn\\model_selection\\_validation.py\", line 680, in _fit_and_score\n",
      "    estimator.fit(X_train, y_train, **fit_params)\n",
      "  File \"C:\\Users\\shamb\\anaconda3\\lib\\site-packages\\sklearn\\linear_model\\_logistic.py\", line 1461, in fit\n",
      "    solver = _check_solver(self.solver, self.penalty, self.dual)\n",
      "  File \"C:\\Users\\shamb\\anaconda3\\lib\\site-packages\\sklearn\\linear_model\\_logistic.py\", line 447, in _check_solver\n",
      "    raise ValueError(\n",
      "ValueError: Solver lbfgs supports only 'l2' or 'none' penalties, got elasticnet penalty.\n",
      "\n",
      "--------------------------------------------------------------------------------\n",
      "8 fits failed with the following error:\n",
      "Traceback (most recent call last):\n",
      "  File \"C:\\Users\\shamb\\anaconda3\\lib\\site-packages\\sklearn\\model_selection\\_validation.py\", line 680, in _fit_and_score\n",
      "    estimator.fit(X_train, y_train, **fit_params)\n",
      "  File \"C:\\Users\\shamb\\anaconda3\\lib\\site-packages\\sklearn\\linear_model\\_logistic.py\", line 1461, in fit\n",
      "    solver = _check_solver(self.solver, self.penalty, self.dual)\n",
      "  File \"C:\\Users\\shamb\\anaconda3\\lib\\site-packages\\sklearn\\linear_model\\_logistic.py\", line 447, in _check_solver\n",
      "    raise ValueError(\n",
      "ValueError: Solver sag supports only 'l2' or 'none' penalties, got elasticnet penalty.\n",
      "\n",
      "--------------------------------------------------------------------------------\n",
      "8 fits failed with the following error:\n",
      "Traceback (most recent call last):\n",
      "  File \"C:\\Users\\shamb\\anaconda3\\lib\\site-packages\\sklearn\\model_selection\\_validation.py\", line 680, in _fit_and_score\n",
      "    estimator.fit(X_train, y_train, **fit_params)\n",
      "  File \"C:\\Users\\shamb\\anaconda3\\lib\\site-packages\\sklearn\\linear_model\\_logistic.py\", line 1461, in fit\n",
      "    solver = _check_solver(self.solver, self.penalty, self.dual)\n",
      "  File \"C:\\Users\\shamb\\anaconda3\\lib\\site-packages\\sklearn\\linear_model\\_logistic.py\", line 457, in _check_solver\n",
      "    raise ValueError(\n",
      "ValueError: Only 'saga' solver supports elasticnet penalty, got solver=liblinear.\n",
      "\n",
      "  warnings.warn(some_fits_failed_message, FitFailedWarning)\n",
      "C:\\Users\\shamb\\anaconda3\\lib\\site-packages\\sklearn\\model_selection\\_search.py:969: UserWarning: One or more of the test scores are non-finite: [       nan        nan        nan 0.52382388 0.52472859 0.5274427\n",
      " 0.52864897 0.52382388        nan        nan        nan        nan\n",
      "        nan        nan        nan 0.52322075 0.52563329 0.5274427\n",
      " 0.52864897 0.52382388        nan        nan        nan        nan]\n",
      "  warnings.warn(\n",
      "C:\\Users\\shamb\\anaconda3\\lib\\site-packages\\sklearn\\linear_model\\_sag.py:352: ConvergenceWarning: The max_iter was reached which means the coef_ did not converge\n",
      "  warnings.warn(\n"
     ]
    },
    {
     "name": "stderr",
     "output_type": "stream",
     "text": [
      "C:\\Users\\shamb\\anaconda3\\lib\\site-packages\\sklearn\\model_selection\\_validation.py:372: FitFailedWarning: \n",
      "56 fits failed out of a total of 96.\n",
      "The score on these train-test partitions for these parameters will be set to nan.\n",
      "If these failures are not expected, you can try to debug them by setting error_score='raise'.\n",
      "\n",
      "Below are more details about the failures:\n",
      "--------------------------------------------------------------------------------\n",
      "8 fits failed with the following error:\n",
      "Traceback (most recent call last):\n",
      "  File \"C:\\Users\\shamb\\anaconda3\\lib\\site-packages\\sklearn\\model_selection\\_validation.py\", line 680, in _fit_and_score\n",
      "    estimator.fit(X_train, y_train, **fit_params)\n",
      "  File \"C:\\Users\\shamb\\anaconda3\\lib\\site-packages\\sklearn\\linear_model\\_logistic.py\", line 1461, in fit\n",
      "    solver = _check_solver(self.solver, self.penalty, self.dual)\n",
      "  File \"C:\\Users\\shamb\\anaconda3\\lib\\site-packages\\sklearn\\linear_model\\_logistic.py\", line 447, in _check_solver\n",
      "    raise ValueError(\n",
      "ValueError: Solver newton-cg supports only 'l2' or 'none' penalties, got l1 penalty.\n",
      "\n",
      "--------------------------------------------------------------------------------\n",
      "8 fits failed with the following error:\n",
      "Traceback (most recent call last):\n",
      "  File \"C:\\Users\\shamb\\anaconda3\\lib\\site-packages\\sklearn\\model_selection\\_validation.py\", line 680, in _fit_and_score\n",
      "    estimator.fit(X_train, y_train, **fit_params)\n",
      "  File \"C:\\Users\\shamb\\anaconda3\\lib\\site-packages\\sklearn\\linear_model\\_logistic.py\", line 1461, in fit\n",
      "    solver = _check_solver(self.solver, self.penalty, self.dual)\n",
      "  File \"C:\\Users\\shamb\\anaconda3\\lib\\site-packages\\sklearn\\linear_model\\_logistic.py\", line 447, in _check_solver\n",
      "    raise ValueError(\n",
      "ValueError: Solver lbfgs supports only 'l2' or 'none' penalties, got l1 penalty.\n",
      "\n",
      "--------------------------------------------------------------------------------\n",
      "8 fits failed with the following error:\n",
      "Traceback (most recent call last):\n",
      "  File \"C:\\Users\\shamb\\anaconda3\\lib\\site-packages\\sklearn\\model_selection\\_validation.py\", line 680, in _fit_and_score\n",
      "    estimator.fit(X_train, y_train, **fit_params)\n",
      "  File \"C:\\Users\\shamb\\anaconda3\\lib\\site-packages\\sklearn\\linear_model\\_logistic.py\", line 1461, in fit\n",
      "    solver = _check_solver(self.solver, self.penalty, self.dual)\n",
      "  File \"C:\\Users\\shamb\\anaconda3\\lib\\site-packages\\sklearn\\linear_model\\_logistic.py\", line 447, in _check_solver\n",
      "    raise ValueError(\n",
      "ValueError: Solver sag supports only 'l2' or 'none' penalties, got l1 penalty.\n",
      "\n",
      "--------------------------------------------------------------------------------\n",
      "8 fits failed with the following error:\n",
      "Traceback (most recent call last):\n",
      "  File \"C:\\Users\\shamb\\anaconda3\\lib\\site-packages\\sklearn\\model_selection\\_validation.py\", line 680, in _fit_and_score\n",
      "    estimator.fit(X_train, y_train, **fit_params)\n",
      "  File \"C:\\Users\\shamb\\anaconda3\\lib\\site-packages\\sklearn\\linear_model\\_logistic.py\", line 1461, in fit\n",
      "    solver = _check_solver(self.solver, self.penalty, self.dual)\n",
      "  File \"C:\\Users\\shamb\\anaconda3\\lib\\site-packages\\sklearn\\linear_model\\_logistic.py\", line 447, in _check_solver\n",
      "    raise ValueError(\n",
      "ValueError: Solver newton-cg supports only 'l2' or 'none' penalties, got elasticnet penalty.\n",
      "\n",
      "--------------------------------------------------------------------------------\n",
      "8 fits failed with the following error:\n",
      "Traceback (most recent call last):\n",
      "  File \"C:\\Users\\shamb\\anaconda3\\lib\\site-packages\\sklearn\\model_selection\\_validation.py\", line 680, in _fit_and_score\n",
      "    estimator.fit(X_train, y_train, **fit_params)\n",
      "  File \"C:\\Users\\shamb\\anaconda3\\lib\\site-packages\\sklearn\\linear_model\\_logistic.py\", line 1461, in fit\n",
      "    solver = _check_solver(self.solver, self.penalty, self.dual)\n",
      "  File \"C:\\Users\\shamb\\anaconda3\\lib\\site-packages\\sklearn\\linear_model\\_logistic.py\", line 447, in _check_solver\n",
      "    raise ValueError(\n",
      "ValueError: Solver lbfgs supports only 'l2' or 'none' penalties, got elasticnet penalty.\n",
      "\n",
      "--------------------------------------------------------------------------------\n",
      "8 fits failed with the following error:\n",
      "Traceback (most recent call last):\n",
      "  File \"C:\\Users\\shamb\\anaconda3\\lib\\site-packages\\sklearn\\model_selection\\_validation.py\", line 680, in _fit_and_score\n",
      "    estimator.fit(X_train, y_train, **fit_params)\n",
      "  File \"C:\\Users\\shamb\\anaconda3\\lib\\site-packages\\sklearn\\linear_model\\_logistic.py\", line 1461, in fit\n",
      "    solver = _check_solver(self.solver, self.penalty, self.dual)\n",
      "  File \"C:\\Users\\shamb\\anaconda3\\lib\\site-packages\\sklearn\\linear_model\\_logistic.py\", line 447, in _check_solver\n",
      "    raise ValueError(\n",
      "ValueError: Solver sag supports only 'l2' or 'none' penalties, got elasticnet penalty.\n",
      "\n",
      "--------------------------------------------------------------------------------\n",
      "8 fits failed with the following error:\n",
      "Traceback (most recent call last):\n",
      "  File \"C:\\Users\\shamb\\anaconda3\\lib\\site-packages\\sklearn\\model_selection\\_validation.py\", line 680, in _fit_and_score\n",
      "    estimator.fit(X_train, y_train, **fit_params)\n",
      "  File \"C:\\Users\\shamb\\anaconda3\\lib\\site-packages\\sklearn\\linear_model\\_logistic.py\", line 1461, in fit\n",
      "    solver = _check_solver(self.solver, self.penalty, self.dual)\n",
      "  File \"C:\\Users\\shamb\\anaconda3\\lib\\site-packages\\sklearn\\linear_model\\_logistic.py\", line 457, in _check_solver\n",
      "    raise ValueError(\n",
      "ValueError: Only 'saga' solver supports elasticnet penalty, got solver=liblinear.\n",
      "\n",
      "  warnings.warn(some_fits_failed_message, FitFailedWarning)\n",
      "C:\\Users\\shamb\\anaconda3\\lib\\site-packages\\sklearn\\model_selection\\_search.py:969: UserWarning: One or more of the test scores are non-finite: [       nan        nan        nan 0.52021823 0.52021823 0.51732991\n",
      " 0.5224647  0.51732991        nan        nan        nan        nan\n",
      "        nan        nan        nan 0.52214377 0.51797176 0.51732991\n",
      " 0.5224647  0.51732991        nan        nan        nan        nan]\n",
      "  warnings.warn(\n",
      "C:\\Users\\shamb\\anaconda3\\lib\\site-packages\\sklearn\\linear_model\\_sag.py:352: ConvergenceWarning: The max_iter was reached which means the coef_ did not converge\n",
      "  warnings.warn(\n",
      "C:\\Users\\shamb\\anaconda3\\lib\\site-packages\\sklearn\\model_selection\\_validation.py:372: FitFailedWarning: \n",
      "56 fits failed out of a total of 96.\n",
      "The score on these train-test partitions for these parameters will be set to nan.\n",
      "If these failures are not expected, you can try to debug them by setting error_score='raise'.\n",
      "\n",
      "Below are more details about the failures:\n",
      "--------------------------------------------------------------------------------\n",
      "8 fits failed with the following error:\n",
      "Traceback (most recent call last):\n",
      "  File \"C:\\Users\\shamb\\anaconda3\\lib\\site-packages\\sklearn\\model_selection\\_validation.py\", line 680, in _fit_and_score\n",
      "    estimator.fit(X_train, y_train, **fit_params)\n",
      "  File \"C:\\Users\\shamb\\anaconda3\\lib\\site-packages\\sklearn\\linear_model\\_logistic.py\", line 1461, in fit\n",
      "    solver = _check_solver(self.solver, self.penalty, self.dual)\n",
      "  File \"C:\\Users\\shamb\\anaconda3\\lib\\site-packages\\sklearn\\linear_model\\_logistic.py\", line 447, in _check_solver\n",
      "    raise ValueError(\n",
      "ValueError: Solver newton-cg supports only 'l2' or 'none' penalties, got l1 penalty.\n",
      "\n",
      "--------------------------------------------------------------------------------\n",
      "8 fits failed with the following error:\n",
      "Traceback (most recent call last):\n",
      "  File \"C:\\Users\\shamb\\anaconda3\\lib\\site-packages\\sklearn\\model_selection\\_validation.py\", line 680, in _fit_and_score\n",
      "    estimator.fit(X_train, y_train, **fit_params)\n",
      "  File \"C:\\Users\\shamb\\anaconda3\\lib\\site-packages\\sklearn\\linear_model\\_logistic.py\", line 1461, in fit\n",
      "    solver = _check_solver(self.solver, self.penalty, self.dual)\n",
      "  File \"C:\\Users\\shamb\\anaconda3\\lib\\site-packages\\sklearn\\linear_model\\_logistic.py\", line 447, in _check_solver\n",
      "    raise ValueError(\n",
      "ValueError: Solver lbfgs supports only 'l2' or 'none' penalties, got l1 penalty.\n",
      "\n",
      "--------------------------------------------------------------------------------\n",
      "8 fits failed with the following error:\n",
      "Traceback (most recent call last):\n",
      "  File \"C:\\Users\\shamb\\anaconda3\\lib\\site-packages\\sklearn\\model_selection\\_validation.py\", line 680, in _fit_and_score\n",
      "    estimator.fit(X_train, y_train, **fit_params)\n",
      "  File \"C:\\Users\\shamb\\anaconda3\\lib\\site-packages\\sklearn\\linear_model\\_logistic.py\", line 1461, in fit\n",
      "    solver = _check_solver(self.solver, self.penalty, self.dual)\n",
      "  File \"C:\\Users\\shamb\\anaconda3\\lib\\site-packages\\sklearn\\linear_model\\_logistic.py\", line 447, in _check_solver\n",
      "    raise ValueError(\n",
      "ValueError: Solver sag supports only 'l2' or 'none' penalties, got l1 penalty.\n",
      "\n",
      "--------------------------------------------------------------------------------\n",
      "8 fits failed with the following error:\n",
      "Traceback (most recent call last):\n",
      "  File \"C:\\Users\\shamb\\anaconda3\\lib\\site-packages\\sklearn\\model_selection\\_validation.py\", line 680, in _fit_and_score\n",
      "    estimator.fit(X_train, y_train, **fit_params)\n",
      "  File \"C:\\Users\\shamb\\anaconda3\\lib\\site-packages\\sklearn\\linear_model\\_logistic.py\", line 1461, in fit\n",
      "    solver = _check_solver(self.solver, self.penalty, self.dual)\n",
      "  File \"C:\\Users\\shamb\\anaconda3\\lib\\site-packages\\sklearn\\linear_model\\_logistic.py\", line 447, in _check_solver\n",
      "    raise ValueError(\n",
      "ValueError: Solver newton-cg supports only 'l2' or 'none' penalties, got elasticnet penalty.\n",
      "\n",
      "--------------------------------------------------------------------------------\n",
      "8 fits failed with the following error:\n",
      "Traceback (most recent call last):\n",
      "  File \"C:\\Users\\shamb\\anaconda3\\lib\\site-packages\\sklearn\\model_selection\\_validation.py\", line 680, in _fit_and_score\n",
      "    estimator.fit(X_train, y_train, **fit_params)\n",
      "  File \"C:\\Users\\shamb\\anaconda3\\lib\\site-packages\\sklearn\\linear_model\\_logistic.py\", line 1461, in fit\n",
      "    solver = _check_solver(self.solver, self.penalty, self.dual)\n",
      "  File \"C:\\Users\\shamb\\anaconda3\\lib\\site-packages\\sklearn\\linear_model\\_logistic.py\", line 447, in _check_solver\n",
      "    raise ValueError(\n",
      "ValueError: Solver lbfgs supports only 'l2' or 'none' penalties, got elasticnet penalty.\n",
      "\n",
      "--------------------------------------------------------------------------------\n",
      "8 fits failed with the following error:\n",
      "Traceback (most recent call last):\n",
      "  File \"C:\\Users\\shamb\\anaconda3\\lib\\site-packages\\sklearn\\model_selection\\_validation.py\", line 680, in _fit_and_score\n",
      "    estimator.fit(X_train, y_train, **fit_params)\n",
      "  File \"C:\\Users\\shamb\\anaconda3\\lib\\site-packages\\sklearn\\linear_model\\_logistic.py\", line 1461, in fit\n",
      "    solver = _check_solver(self.solver, self.penalty, self.dual)\n",
      "  File \"C:\\Users\\shamb\\anaconda3\\lib\\site-packages\\sklearn\\linear_model\\_logistic.py\", line 447, in _check_solver\n",
      "    raise ValueError(\n",
      "ValueError: Solver sag supports only 'l2' or 'none' penalties, got elasticnet penalty.\n",
      "\n",
      "--------------------------------------------------------------------------------\n",
      "8 fits failed with the following error:\n",
      "Traceback (most recent call last):\n",
      "  File \"C:\\Users\\shamb\\anaconda3\\lib\\site-packages\\sklearn\\model_selection\\_validation.py\", line 680, in _fit_and_score\n",
      "    estimator.fit(X_train, y_train, **fit_params)\n",
      "  File \"C:\\Users\\shamb\\anaconda3\\lib\\site-packages\\sklearn\\linear_model\\_logistic.py\", line 1461, in fit\n",
      "    solver = _check_solver(self.solver, self.penalty, self.dual)\n",
      "  File \"C:\\Users\\shamb\\anaconda3\\lib\\site-packages\\sklearn\\linear_model\\_logistic.py\", line 457, in _check_solver\n",
      "    raise ValueError(\n",
      "ValueError: Only 'saga' solver supports elasticnet penalty, got solver=liblinear.\n",
      "\n",
      "  warnings.warn(some_fits_failed_message, FitFailedWarning)\n",
      "C:\\Users\\shamb\\anaconda3\\lib\\site-packages\\sklearn\\model_selection\\_search.py:969: UserWarning: One or more of the test scores are non-finite: [       nan        nan        nan 0.510631   0.51165981 0.51406036\n",
      " 0.52057613 0.51474623        nan        nan        nan        nan\n",
      "        nan        nan        nan 0.51097394 0.51097394 0.51406036\n",
      " 0.52057613 0.51474623        nan        nan        nan        nan]\n",
      "  warnings.warn(\n",
      "C:\\Users\\shamb\\anaconda3\\lib\\site-packages\\sklearn\\linear_model\\_sag.py:352: ConvergenceWarning: The max_iter was reached which means the coef_ did not converge\n",
      "  warnings.warn(\n"
     ]
    },
    {
     "name": "stderr",
     "output_type": "stream",
     "text": [
      "C:\\Users\\shamb\\anaconda3\\lib\\site-packages\\sklearn\\model_selection\\_validation.py:372: FitFailedWarning: \n",
      "56 fits failed out of a total of 96.\n",
      "The score on these train-test partitions for these parameters will be set to nan.\n",
      "If these failures are not expected, you can try to debug them by setting error_score='raise'.\n",
      "\n",
      "Below are more details about the failures:\n",
      "--------------------------------------------------------------------------------\n",
      "8 fits failed with the following error:\n",
      "Traceback (most recent call last):\n",
      "  File \"C:\\Users\\shamb\\anaconda3\\lib\\site-packages\\sklearn\\model_selection\\_validation.py\", line 680, in _fit_and_score\n",
      "    estimator.fit(X_train, y_train, **fit_params)\n",
      "  File \"C:\\Users\\shamb\\anaconda3\\lib\\site-packages\\sklearn\\linear_model\\_logistic.py\", line 1461, in fit\n",
      "    solver = _check_solver(self.solver, self.penalty, self.dual)\n",
      "  File \"C:\\Users\\shamb\\anaconda3\\lib\\site-packages\\sklearn\\linear_model\\_logistic.py\", line 447, in _check_solver\n",
      "    raise ValueError(\n",
      "ValueError: Solver newton-cg supports only 'l2' or 'none' penalties, got l1 penalty.\n",
      "\n",
      "--------------------------------------------------------------------------------\n",
      "8 fits failed with the following error:\n",
      "Traceback (most recent call last):\n",
      "  File \"C:\\Users\\shamb\\anaconda3\\lib\\site-packages\\sklearn\\model_selection\\_validation.py\", line 680, in _fit_and_score\n",
      "    estimator.fit(X_train, y_train, **fit_params)\n",
      "  File \"C:\\Users\\shamb\\anaconda3\\lib\\site-packages\\sklearn\\linear_model\\_logistic.py\", line 1461, in fit\n",
      "    solver = _check_solver(self.solver, self.penalty, self.dual)\n",
      "  File \"C:\\Users\\shamb\\anaconda3\\lib\\site-packages\\sklearn\\linear_model\\_logistic.py\", line 447, in _check_solver\n",
      "    raise ValueError(\n",
      "ValueError: Solver lbfgs supports only 'l2' or 'none' penalties, got l1 penalty.\n",
      "\n",
      "--------------------------------------------------------------------------------\n",
      "8 fits failed with the following error:\n",
      "Traceback (most recent call last):\n",
      "  File \"C:\\Users\\shamb\\anaconda3\\lib\\site-packages\\sklearn\\model_selection\\_validation.py\", line 680, in _fit_and_score\n",
      "    estimator.fit(X_train, y_train, **fit_params)\n",
      "  File \"C:\\Users\\shamb\\anaconda3\\lib\\site-packages\\sklearn\\linear_model\\_logistic.py\", line 1461, in fit\n",
      "    solver = _check_solver(self.solver, self.penalty, self.dual)\n",
      "  File \"C:\\Users\\shamb\\anaconda3\\lib\\site-packages\\sklearn\\linear_model\\_logistic.py\", line 447, in _check_solver\n",
      "    raise ValueError(\n",
      "ValueError: Solver sag supports only 'l2' or 'none' penalties, got l1 penalty.\n",
      "\n",
      "--------------------------------------------------------------------------------\n",
      "8 fits failed with the following error:\n",
      "Traceback (most recent call last):\n",
      "  File \"C:\\Users\\shamb\\anaconda3\\lib\\site-packages\\sklearn\\model_selection\\_validation.py\", line 680, in _fit_and_score\n",
      "    estimator.fit(X_train, y_train, **fit_params)\n",
      "  File \"C:\\Users\\shamb\\anaconda3\\lib\\site-packages\\sklearn\\linear_model\\_logistic.py\", line 1461, in fit\n",
      "    solver = _check_solver(self.solver, self.penalty, self.dual)\n",
      "  File \"C:\\Users\\shamb\\anaconda3\\lib\\site-packages\\sklearn\\linear_model\\_logistic.py\", line 447, in _check_solver\n",
      "    raise ValueError(\n",
      "ValueError: Solver newton-cg supports only 'l2' or 'none' penalties, got elasticnet penalty.\n",
      "\n",
      "--------------------------------------------------------------------------------\n",
      "8 fits failed with the following error:\n",
      "Traceback (most recent call last):\n",
      "  File \"C:\\Users\\shamb\\anaconda3\\lib\\site-packages\\sklearn\\model_selection\\_validation.py\", line 680, in _fit_and_score\n",
      "    estimator.fit(X_train, y_train, **fit_params)\n",
      "  File \"C:\\Users\\shamb\\anaconda3\\lib\\site-packages\\sklearn\\linear_model\\_logistic.py\", line 1461, in fit\n",
      "    solver = _check_solver(self.solver, self.penalty, self.dual)\n",
      "  File \"C:\\Users\\shamb\\anaconda3\\lib\\site-packages\\sklearn\\linear_model\\_logistic.py\", line 447, in _check_solver\n",
      "    raise ValueError(\n",
      "ValueError: Solver lbfgs supports only 'l2' or 'none' penalties, got elasticnet penalty.\n",
      "\n",
      "--------------------------------------------------------------------------------\n",
      "8 fits failed with the following error:\n",
      "Traceback (most recent call last):\n",
      "  File \"C:\\Users\\shamb\\anaconda3\\lib\\site-packages\\sklearn\\model_selection\\_validation.py\", line 680, in _fit_and_score\n",
      "    estimator.fit(X_train, y_train, **fit_params)\n",
      "  File \"C:\\Users\\shamb\\anaconda3\\lib\\site-packages\\sklearn\\linear_model\\_logistic.py\", line 1461, in fit\n",
      "    solver = _check_solver(self.solver, self.penalty, self.dual)\n",
      "  File \"C:\\Users\\shamb\\anaconda3\\lib\\site-packages\\sklearn\\linear_model\\_logistic.py\", line 447, in _check_solver\n",
      "    raise ValueError(\n",
      "ValueError: Solver sag supports only 'l2' or 'none' penalties, got elasticnet penalty.\n",
      "\n",
      "--------------------------------------------------------------------------------\n",
      "8 fits failed with the following error:\n",
      "Traceback (most recent call last):\n",
      "  File \"C:\\Users\\shamb\\anaconda3\\lib\\site-packages\\sklearn\\model_selection\\_validation.py\", line 680, in _fit_and_score\n",
      "    estimator.fit(X_train, y_train, **fit_params)\n",
      "  File \"C:\\Users\\shamb\\anaconda3\\lib\\site-packages\\sklearn\\linear_model\\_logistic.py\", line 1461, in fit\n",
      "    solver = _check_solver(self.solver, self.penalty, self.dual)\n",
      "  File \"C:\\Users\\shamb\\anaconda3\\lib\\site-packages\\sklearn\\linear_model\\_logistic.py\", line 457, in _check_solver\n",
      "    raise ValueError(\n",
      "ValueError: Only 'saga' solver supports elasticnet penalty, got solver=liblinear.\n",
      "\n",
      "  warnings.warn(some_fits_failed_message, FitFailedWarning)\n",
      "C:\\Users\\shamb\\anaconda3\\lib\\site-packages\\sklearn\\model_selection\\_search.py:969: UserWarning: One or more of the test scores are non-finite: [       nan        nan        nan 0.5128866  0.51215022 0.52209131\n",
      " 0.52172312 0.51730486        nan        nan        nan        nan\n",
      "        nan        nan        nan 0.51656848 0.51951399 0.52209131\n",
      " 0.52172312 0.51730486        nan        nan        nan        nan]\n",
      "  warnings.warn(\n",
      "C:\\Users\\shamb\\anaconda3\\lib\\site-packages\\sklearn\\model_selection\\_validation.py:372: FitFailedWarning: \n",
      "56 fits failed out of a total of 96.\n",
      "The score on these train-test partitions for these parameters will be set to nan.\n",
      "If these failures are not expected, you can try to debug them by setting error_score='raise'.\n",
      "\n",
      "Below are more details about the failures:\n",
      "--------------------------------------------------------------------------------\n",
      "8 fits failed with the following error:\n",
      "Traceback (most recent call last):\n",
      "  File \"C:\\Users\\shamb\\anaconda3\\lib\\site-packages\\sklearn\\model_selection\\_validation.py\", line 680, in _fit_and_score\n",
      "    estimator.fit(X_train, y_train, **fit_params)\n",
      "  File \"C:\\Users\\shamb\\anaconda3\\lib\\site-packages\\sklearn\\linear_model\\_logistic.py\", line 1461, in fit\n",
      "    solver = _check_solver(self.solver, self.penalty, self.dual)\n",
      "  File \"C:\\Users\\shamb\\anaconda3\\lib\\site-packages\\sklearn\\linear_model\\_logistic.py\", line 447, in _check_solver\n",
      "    raise ValueError(\n",
      "ValueError: Solver newton-cg supports only 'l2' or 'none' penalties, got l1 penalty.\n",
      "\n",
      "--------------------------------------------------------------------------------\n",
      "8 fits failed with the following error:\n",
      "Traceback (most recent call last):\n",
      "  File \"C:\\Users\\shamb\\anaconda3\\lib\\site-packages\\sklearn\\model_selection\\_validation.py\", line 680, in _fit_and_score\n",
      "    estimator.fit(X_train, y_train, **fit_params)\n",
      "  File \"C:\\Users\\shamb\\anaconda3\\lib\\site-packages\\sklearn\\linear_model\\_logistic.py\", line 1461, in fit\n",
      "    solver = _check_solver(self.solver, self.penalty, self.dual)\n",
      "  File \"C:\\Users\\shamb\\anaconda3\\lib\\site-packages\\sklearn\\linear_model\\_logistic.py\", line 447, in _check_solver\n",
      "    raise ValueError(\n",
      "ValueError: Solver lbfgs supports only 'l2' or 'none' penalties, got l1 penalty.\n",
      "\n",
      "--------------------------------------------------------------------------------\n",
      "8 fits failed with the following error:\n",
      "Traceback (most recent call last):\n",
      "  File \"C:\\Users\\shamb\\anaconda3\\lib\\site-packages\\sklearn\\model_selection\\_validation.py\", line 680, in _fit_and_score\n",
      "    estimator.fit(X_train, y_train, **fit_params)\n",
      "  File \"C:\\Users\\shamb\\anaconda3\\lib\\site-packages\\sklearn\\linear_model\\_logistic.py\", line 1461, in fit\n",
      "    solver = _check_solver(self.solver, self.penalty, self.dual)\n",
      "  File \"C:\\Users\\shamb\\anaconda3\\lib\\site-packages\\sklearn\\linear_model\\_logistic.py\", line 447, in _check_solver\n",
      "    raise ValueError(\n",
      "ValueError: Solver sag supports only 'l2' or 'none' penalties, got l1 penalty.\n",
      "\n",
      "--------------------------------------------------------------------------------\n",
      "8 fits failed with the following error:\n",
      "Traceback (most recent call last):\n",
      "  File \"C:\\Users\\shamb\\anaconda3\\lib\\site-packages\\sklearn\\model_selection\\_validation.py\", line 680, in _fit_and_score\n",
      "    estimator.fit(X_train, y_train, **fit_params)\n",
      "  File \"C:\\Users\\shamb\\anaconda3\\lib\\site-packages\\sklearn\\linear_model\\_logistic.py\", line 1461, in fit\n",
      "    solver = _check_solver(self.solver, self.penalty, self.dual)\n",
      "  File \"C:\\Users\\shamb\\anaconda3\\lib\\site-packages\\sklearn\\linear_model\\_logistic.py\", line 447, in _check_solver\n",
      "    raise ValueError(\n",
      "ValueError: Solver newton-cg supports only 'l2' or 'none' penalties, got elasticnet penalty.\n",
      "\n",
      "--------------------------------------------------------------------------------\n",
      "8 fits failed with the following error:\n",
      "Traceback (most recent call last):\n",
      "  File \"C:\\Users\\shamb\\anaconda3\\lib\\site-packages\\sklearn\\model_selection\\_validation.py\", line 680, in _fit_and_score\n",
      "    estimator.fit(X_train, y_train, **fit_params)\n",
      "  File \"C:\\Users\\shamb\\anaconda3\\lib\\site-packages\\sklearn\\linear_model\\_logistic.py\", line 1461, in fit\n",
      "    solver = _check_solver(self.solver, self.penalty, self.dual)\n",
      "  File \"C:\\Users\\shamb\\anaconda3\\lib\\site-packages\\sklearn\\linear_model\\_logistic.py\", line 447, in _check_solver\n",
      "    raise ValueError(\n",
      "ValueError: Solver lbfgs supports only 'l2' or 'none' penalties, got elasticnet penalty.\n",
      "\n",
      "--------------------------------------------------------------------------------\n",
      "8 fits failed with the following error:\n",
      "Traceback (most recent call last):\n",
      "  File \"C:\\Users\\shamb\\anaconda3\\lib\\site-packages\\sklearn\\model_selection\\_validation.py\", line 680, in _fit_and_score\n",
      "    estimator.fit(X_train, y_train, **fit_params)\n",
      "  File \"C:\\Users\\shamb\\anaconda3\\lib\\site-packages\\sklearn\\linear_model\\_logistic.py\", line 1461, in fit\n",
      "    solver = _check_solver(self.solver, self.penalty, self.dual)\n",
      "  File \"C:\\Users\\shamb\\anaconda3\\lib\\site-packages\\sklearn\\linear_model\\_logistic.py\", line 447, in _check_solver\n",
      "    raise ValueError(\n",
      "ValueError: Solver sag supports only 'l2' or 'none' penalties, got elasticnet penalty.\n",
      "\n",
      "--------------------------------------------------------------------------------\n",
      "8 fits failed with the following error:\n",
      "Traceback (most recent call last):\n",
      "  File \"C:\\Users\\shamb\\anaconda3\\lib\\site-packages\\sklearn\\model_selection\\_validation.py\", line 680, in _fit_and_score\n",
      "    estimator.fit(X_train, y_train, **fit_params)\n",
      "  File \"C:\\Users\\shamb\\anaconda3\\lib\\site-packages\\sklearn\\linear_model\\_logistic.py\", line 1461, in fit\n",
      "    solver = _check_solver(self.solver, self.penalty, self.dual)\n",
      "  File \"C:\\Users\\shamb\\anaconda3\\lib\\site-packages\\sklearn\\linear_model\\_logistic.py\", line 457, in _check_solver\n",
      "    raise ValueError(\n",
      "ValueError: Only 'saga' solver supports elasticnet penalty, got solver=liblinear.\n",
      "\n",
      "  warnings.warn(some_fits_failed_message, FitFailedWarning)\n",
      "C:\\Users\\shamb\\anaconda3\\lib\\site-packages\\sklearn\\model_selection\\_search.py:969: UserWarning: One or more of the test scores are non-finite: [       nan        nan        nan 0.51629571 0.51311606 0.51351351\n",
      " 0.49960254 0.50476948        nan        nan        nan        nan\n",
      "        nan        nan        nan 0.50516693 0.50437202 0.51351351\n",
      " 0.49960254 0.50556439        nan        nan        nan        nan]\n",
      "  warnings.warn(\n"
     ]
    },
    {
     "name": "stderr",
     "output_type": "stream",
     "text": [
      "C:\\Users\\shamb\\anaconda3\\lib\\site-packages\\sklearn\\svm\\_base.py:1206: ConvergenceWarning: Liblinear failed to converge, increase the number of iterations.\n",
      "  warnings.warn(\n"
     ]
    },
    {
     "data": {
      "text/html": [
       "<div>\n",
       "<style scoped>\n",
       "    .dataframe tbody tr th:only-of-type {\n",
       "        vertical-align: middle;\n",
       "    }\n",
       "\n",
       "    .dataframe tbody tr th {\n",
       "        vertical-align: top;\n",
       "    }\n",
       "\n",
       "    .dataframe thead th {\n",
       "        text-align: right;\n",
       "    }\n",
       "</style>\n",
       "<table border=\"1\" class=\"dataframe\">\n",
       "  <thead>\n",
       "    <tr style=\"text-align: right;\">\n",
       "      <th></th>\n",
       "      <th>testing_points</th>\n",
       "      <th>best_params</th>\n",
       "      <th>pred_score</th>\n",
       "    </tr>\n",
       "  </thead>\n",
       "  <tbody>\n",
       "    <tr>\n",
       "      <th>0</th>\n",
       "      <td>200</td>\n",
       "      <td>{'fit_intercept': True, 'penalty': 'l2', 'solv...</td>\n",
       "      <td>0.473958</td>\n",
       "    </tr>\n",
       "    <tr>\n",
       "      <th>1</th>\n",
       "      <td>400</td>\n",
       "      <td>{'fit_intercept': True, 'penalty': 'l2', 'solv...</td>\n",
       "      <td>0.525000</td>\n",
       "    </tr>\n",
       "    <tr>\n",
       "      <th>2</th>\n",
       "      <td>600</td>\n",
       "      <td>{'fit_intercept': True, 'penalty': 'l2', 'solv...</td>\n",
       "      <td>0.558333</td>\n",
       "    </tr>\n",
       "    <tr>\n",
       "      <th>3</th>\n",
       "      <td>800</td>\n",
       "      <td>{'fit_intercept': True, 'penalty': 'l2', 'solv...</td>\n",
       "      <td>0.550000</td>\n",
       "    </tr>\n",
       "    <tr>\n",
       "      <th>4</th>\n",
       "      <td>1000</td>\n",
       "      <td>{'fit_intercept': True, 'penalty': 'l2', 'solv...</td>\n",
       "      <td>0.540873</td>\n",
       "    </tr>\n",
       "    <tr>\n",
       "      <th>5</th>\n",
       "      <td>1200</td>\n",
       "      <td>{'fit_intercept': True, 'penalty': 'l1', 'solv...</td>\n",
       "      <td>0.551237</td>\n",
       "    </tr>\n",
       "  </tbody>\n",
       "</table>\n",
       "</div>"
      ],
      "text/plain": [
       "   testing_points                                        best_params  \\\n",
       "0             200  {'fit_intercept': True, 'penalty': 'l2', 'solv...   \n",
       "1             400  {'fit_intercept': True, 'penalty': 'l2', 'solv...   \n",
       "2             600  {'fit_intercept': True, 'penalty': 'l2', 'solv...   \n",
       "3             800  {'fit_intercept': True, 'penalty': 'l2', 'solv...   \n",
       "4            1000  {'fit_intercept': True, 'penalty': 'l2', 'solv...   \n",
       "5            1200  {'fit_intercept': True, 'penalty': 'l1', 'solv...   \n",
       "\n",
       "   pred_score  \n",
       "0    0.473958  \n",
       "1    0.525000  \n",
       "2    0.558333  \n",
       "3    0.550000  \n",
       "4    0.540873  \n",
       "5    0.551237  "
      ]
     },
     "execution_count": 26,
     "metadata": {},
     "output_type": "execute_result"
    }
   ],
   "source": [
    "from sklearn.metrics import precision_score\n",
    "import numpy as np\n",
    "from sklearn.linear_model import LogisticRegression\n",
    "from sklearn.model_selection import GridSearchCV\n",
    "import pandas as pd\n",
    "\n",
    "scores_3 = []\n",
    "\n",
    "for i in range(6):\n",
    "    params = {\n",
    "        'penalty' : ['l1','l2','elasticnet'],\n",
    "        'fit_intercept':[True,False],\n",
    "        'solver':['newton-cg','lbfgs','sag','liblinear']   \n",
    "    }\n",
    "    \n",
    "    random_grid = GridSearchCV(estimator=LogisticRegression(random_state=40),param_grid=params,cv=4,n_jobs=4)\n",
    "    \n",
    "    train = nifty50.iloc[:-200*(i+1)]\n",
    "    test = nifty50.iloc[-200*(i+1):]\n",
    "    \n",
    "    predictors = ['Close','Volume','Open','High','Low']\n",
    "    random_grid.fit(train[predictors],train['Target'])\n",
    "    \n",
    "    preds = random_grid.predict(test[predictors])\n",
    "    \n",
    "    preds = pd.Series(preds,index=test.index)\n",
    "    \n",
    "    score = precision_score(test['Target'], preds)\n",
    "    \n",
    "    scores_3.append({\n",
    "        'testing_points':200*(i+1),\n",
    "        'best_params':random_grid.best_params_,\n",
    "        'pred_score':score\n",
    "    })\n",
    "    \n",
    "dataframe = pd.DataFrame(scores_3,columns=['testing_points','best_params','pred_score'])\n",
    "dataframe"
   ]
  },
  {
   "cell_type": "code",
   "execution_count": 27,
   "id": "47a37ec7",
   "metadata": {},
   "outputs": [
    {
     "name": "stdout",
     "output_type": "stream",
     "text": [
      "Average accuracy of above model :  0.5332336460049392\n"
     ]
    }
   ],
   "source": [
    "a = dataframe.pred_score\n",
    "print('Average accuracy of above model : ', np.average(a))"
   ]
  },
  {
   "cell_type": "markdown",
   "id": "8ecbac9b",
   "metadata": {},
   "source": [
    "### (4) Naive bayes "
   ]
  },
  {
   "cell_type": "markdown",
   "id": "7a1fc9d4",
   "metadata": {},
   "source": [
    "#### (a) BernoulliNB"
   ]
  },
  {
   "cell_type": "code",
   "execution_count": 28,
   "id": "5309769b",
   "metadata": {},
   "outputs": [
    {
     "data": {
      "text/html": [
       "<div>\n",
       "<style scoped>\n",
       "    .dataframe tbody tr th:only-of-type {\n",
       "        vertical-align: middle;\n",
       "    }\n",
       "\n",
       "    .dataframe tbody tr th {\n",
       "        vertical-align: top;\n",
       "    }\n",
       "\n",
       "    .dataframe thead th {\n",
       "        text-align: right;\n",
       "    }\n",
       "</style>\n",
       "<table border=\"1\" class=\"dataframe\">\n",
       "  <thead>\n",
       "    <tr style=\"text-align: right;\">\n",
       "      <th></th>\n",
       "      <th>testing_points</th>\n",
       "      <th>pred_score</th>\n",
       "    </tr>\n",
       "  </thead>\n",
       "  <tbody>\n",
       "    <tr>\n",
       "      <th>0</th>\n",
       "      <td>200</td>\n",
       "      <td>0.485000</td>\n",
       "    </tr>\n",
       "    <tr>\n",
       "      <th>1</th>\n",
       "      <td>400</td>\n",
       "      <td>0.525000</td>\n",
       "    </tr>\n",
       "    <tr>\n",
       "      <th>2</th>\n",
       "      <td>600</td>\n",
       "      <td>0.558333</td>\n",
       "    </tr>\n",
       "    <tr>\n",
       "      <th>3</th>\n",
       "      <td>800</td>\n",
       "      <td>0.550000</td>\n",
       "    </tr>\n",
       "    <tr>\n",
       "      <th>4</th>\n",
       "      <td>1000</td>\n",
       "      <td>0.546000</td>\n",
       "    </tr>\n",
       "    <tr>\n",
       "      <th>5</th>\n",
       "      <td>1200</td>\n",
       "      <td>0.541667</td>\n",
       "    </tr>\n",
       "  </tbody>\n",
       "</table>\n",
       "</div>"
      ],
      "text/plain": [
       "   testing_points  pred_score\n",
       "0             200    0.485000\n",
       "1             400    0.525000\n",
       "2             600    0.558333\n",
       "3             800    0.550000\n",
       "4            1000    0.546000\n",
       "5            1200    0.541667"
      ]
     },
     "execution_count": 28,
     "metadata": {},
     "output_type": "execute_result"
    }
   ],
   "source": [
    "from sklearn.naive_bayes import BernoulliNB,GaussianNB\n",
    "from sklearn.metrics import precision_score\n",
    "import numpy as np\n",
    "from sklearn.model_selection import GridSearchCV\n",
    "import pandas as pd\n",
    "\n",
    "scores_41 = []\n",
    "\n",
    "for i in range(6):\n",
    "    \n",
    "    random_grid = BernoulliNB()\n",
    "    \n",
    "    train = nifty50.iloc[:-200*(i+1)]\n",
    "    test = nifty50.iloc[-200*(i+1):]\n",
    "    \n",
    "    predictors = ['Close','Volume','Open','High','Low']\n",
    "    random_grid.fit(train[predictors],train['Target'])\n",
    "    \n",
    "    preds = random_grid.predict(test[predictors])\n",
    "    \n",
    "    preds = pd.Series(preds,index=test.index)\n",
    "    \n",
    "    score = precision_score(test['Target'], preds)\n",
    "    \n",
    "    scores_41.append({\n",
    "        'testing_points':200*(i+1),\n",
    "        'pred_score':score\n",
    "    })\n",
    "    \n",
    "dataframe = pd.DataFrame(scores_41,columns=['testing_points','pred_score'])\n",
    "dataframe"
   ]
  },
  {
   "cell_type": "code",
   "execution_count": 29,
   "id": "816bfe0d",
   "metadata": {},
   "outputs": [
    {
     "name": "stdout",
     "output_type": "stream",
     "text": [
      "Average accuracy of above model :  0.5343333333333333\n"
     ]
    }
   ],
   "source": [
    "a = dataframe.pred_score\n",
    "print('Average accuracy of above model : ', np.average(a))"
   ]
  },
  {
   "cell_type": "markdown",
   "id": "d886daa1",
   "metadata": {},
   "source": [
    "#### (b) GaussianNB"
   ]
  },
  {
   "cell_type": "code",
   "execution_count": 30,
   "id": "808a4817",
   "metadata": {},
   "outputs": [
    {
     "data": {
      "text/html": [
       "<div>\n",
       "<style scoped>\n",
       "    .dataframe tbody tr th:only-of-type {\n",
       "        vertical-align: middle;\n",
       "    }\n",
       "\n",
       "    .dataframe tbody tr th {\n",
       "        vertical-align: top;\n",
       "    }\n",
       "\n",
       "    .dataframe thead th {\n",
       "        text-align: right;\n",
       "    }\n",
       "</style>\n",
       "<table border=\"1\" class=\"dataframe\">\n",
       "  <thead>\n",
       "    <tr style=\"text-align: right;\">\n",
       "      <th></th>\n",
       "      <th>testing_points</th>\n",
       "      <th>pred_score</th>\n",
       "    </tr>\n",
       "  </thead>\n",
       "  <tbody>\n",
       "    <tr>\n",
       "      <th>0</th>\n",
       "      <td>200</td>\n",
       "      <td>0.485000</td>\n",
       "    </tr>\n",
       "    <tr>\n",
       "      <th>1</th>\n",
       "      <td>400</td>\n",
       "      <td>0.525000</td>\n",
       "    </tr>\n",
       "    <tr>\n",
       "      <th>2</th>\n",
       "      <td>600</td>\n",
       "      <td>0.714286</td>\n",
       "    </tr>\n",
       "    <tr>\n",
       "      <th>3</th>\n",
       "      <td>800</td>\n",
       "      <td>0.550688</td>\n",
       "    </tr>\n",
       "    <tr>\n",
       "      <th>4</th>\n",
       "      <td>1000</td>\n",
       "      <td>0.546000</td>\n",
       "    </tr>\n",
       "    <tr>\n",
       "      <th>5</th>\n",
       "      <td>1200</td>\n",
       "      <td>0.541667</td>\n",
       "    </tr>\n",
       "  </tbody>\n",
       "</table>\n",
       "</div>"
      ],
      "text/plain": [
       "   testing_points  pred_score\n",
       "0             200    0.485000\n",
       "1             400    0.525000\n",
       "2             600    0.714286\n",
       "3             800    0.550688\n",
       "4            1000    0.546000\n",
       "5            1200    0.541667"
      ]
     },
     "execution_count": 30,
     "metadata": {},
     "output_type": "execute_result"
    }
   ],
   "source": [
    "from sklearn.naive_bayes import BernoulliNB,GaussianNB\n",
    "from sklearn.metrics import precision_score\n",
    "import numpy as np\n",
    "from sklearn.model_selection import GridSearchCV\n",
    "import pandas as pd\n",
    "\n",
    "scores_42 = []\n",
    "\n",
    "for i in range(6):\n",
    "    \n",
    "    random_grid = GaussianNB()\n",
    "    \n",
    "    train = nifty50.iloc[:-200*(i+1)]\n",
    "    test = nifty50.iloc[-200*(i+1):]\n",
    "    \n",
    "    predictors = ['Close','Volume','Open','High','Low']\n",
    "    random_grid.fit(train[predictors],train['Target'])\n",
    "    \n",
    "    preds = random_grid.predict(test[predictors])\n",
    "    \n",
    "    preds = pd.Series(preds,index=test.index)\n",
    "    \n",
    "    score = precision_score(test['Target'], preds)\n",
    "    \n",
    "    scores_42.append({\n",
    "        'testing_points':200*(i+1),\n",
    "        'pred_score':score\n",
    "    })\n",
    "    \n",
    "dataframe = pd.DataFrame(scores_42,columns=['testing_points','pred_score'])\n",
    "dataframe"
   ]
  },
  {
   "cell_type": "code",
   "execution_count": 31,
   "id": "0937ca1b",
   "metadata": {},
   "outputs": [
    {
     "name": "stdout",
     "output_type": "stream",
     "text": [
      "Average accuracy of above model :  0.5604401235671573\n"
     ]
    }
   ],
   "source": [
    "a = dataframe.pred_score\n",
    "print('Average accuracy of above model : ', np.average(a))"
   ]
  },
  {
   "cell_type": "markdown",
   "id": "c32ec09e",
   "metadata": {},
   "source": [
    "### (5) Random Forest"
   ]
  },
  {
   "cell_type": "code",
   "execution_count": 32,
   "id": "42139b80",
   "metadata": {},
   "outputs": [
    {
     "data": {
      "text/html": [
       "<div>\n",
       "<style scoped>\n",
       "    .dataframe tbody tr th:only-of-type {\n",
       "        vertical-align: middle;\n",
       "    }\n",
       "\n",
       "    .dataframe tbody tr th {\n",
       "        vertical-align: top;\n",
       "    }\n",
       "\n",
       "    .dataframe thead th {\n",
       "        text-align: right;\n",
       "    }\n",
       "</style>\n",
       "<table border=\"1\" class=\"dataframe\">\n",
       "  <thead>\n",
       "    <tr style=\"text-align: right;\">\n",
       "      <th></th>\n",
       "      <th>testing_points</th>\n",
       "      <th>pred_score</th>\n",
       "    </tr>\n",
       "  </thead>\n",
       "  <tbody>\n",
       "    <tr>\n",
       "      <th>0</th>\n",
       "      <td>200</td>\n",
       "      <td>0.481752</td>\n",
       "    </tr>\n",
       "    <tr>\n",
       "      <th>1</th>\n",
       "      <td>400</td>\n",
       "      <td>0.550000</td>\n",
       "    </tr>\n",
       "    <tr>\n",
       "      <th>2</th>\n",
       "      <td>600</td>\n",
       "      <td>0.569231</td>\n",
       "    </tr>\n",
       "    <tr>\n",
       "      <th>3</th>\n",
       "      <td>800</td>\n",
       "      <td>0.593333</td>\n",
       "    </tr>\n",
       "    <tr>\n",
       "      <th>4</th>\n",
       "      <td>1000</td>\n",
       "      <td>0.565217</td>\n",
       "    </tr>\n",
       "    <tr>\n",
       "      <th>5</th>\n",
       "      <td>1200</td>\n",
       "      <td>0.600000</td>\n",
       "    </tr>\n",
       "  </tbody>\n",
       "</table>\n",
       "</div>"
      ],
      "text/plain": [
       "   testing_points  pred_score\n",
       "0             200    0.481752\n",
       "1             400    0.550000\n",
       "2             600    0.569231\n",
       "3             800    0.593333\n",
       "4            1000    0.565217\n",
       "5            1200    0.600000"
      ]
     },
     "execution_count": 32,
     "metadata": {},
     "output_type": "execute_result"
    }
   ],
   "source": [
    "from sklearn.metrics import precision_score\n",
    "from sklearn.ensemble import RandomForestClassifier\n",
    "from sklearn.model_selection import GridSearchCV\n",
    "import pandas as pd\n",
    "\n",
    "scores_5 = []\n",
    "\n",
    "for i in range(6):\n",
    "    \n",
    "    random_grid = RandomForestClassifier(max_depth=64,max_features='sqrt',min_samples_split=4,n_estimators=100)\n",
    "    \n",
    "    train = nifty50.iloc[:-200*(i+1)]\n",
    "    test = nifty50.iloc[-200*(i+1):]\n",
    "    \n",
    "    predictors = ['Close','Volume','Open','High','Low']\n",
    "    random_grid.fit(train[predictors],train['Target'])\n",
    "    \n",
    "    preds = random_grid.predict(test[predictors])\n",
    "    \n",
    "    preds = pd.Series(preds,index=test.index)\n",
    "    \n",
    "    score = precision_score(test['Target'], preds)\n",
    "    \n",
    "    scores_5.append({\n",
    "        'testing_points':200*(i+1),\n",
    "        'pred_score':score\n",
    "    })\n",
    "    \n",
    "dataframe = pd.DataFrame(scores_5,columns=['testing_points','pred_score'])\n",
    "dataframe"
   ]
  },
  {
   "cell_type": "code",
   "execution_count": 33,
   "id": "c1489abe",
   "metadata": {},
   "outputs": [
    {
     "name": "stdout",
     "output_type": "stream",
     "text": [
      "Average accuracy of above model :  0.5599222197809948\n"
     ]
    }
   ],
   "source": [
    "a = dataframe.pred_score\n",
    "print('Average accuracy of above model : ', np.average(a))"
   ]
  },
  {
   "cell_type": "markdown",
   "id": "09ac047c",
   "metadata": {},
   "source": [
    "### (6) Support Vector Classifier"
   ]
  },
  {
   "cell_type": "code",
   "execution_count": 34,
   "id": "72432a36",
   "metadata": {},
   "outputs": [
    {
     "data": {
      "text/html": [
       "<div>\n",
       "<style scoped>\n",
       "    .dataframe tbody tr th:only-of-type {\n",
       "        vertical-align: middle;\n",
       "    }\n",
       "\n",
       "    .dataframe tbody tr th {\n",
       "        vertical-align: top;\n",
       "    }\n",
       "\n",
       "    .dataframe thead th {\n",
       "        text-align: right;\n",
       "    }\n",
       "</style>\n",
       "<table border=\"1\" class=\"dataframe\">\n",
       "  <thead>\n",
       "    <tr style=\"text-align: right;\">\n",
       "      <th></th>\n",
       "      <th>testing_points</th>\n",
       "      <th>pred_score</th>\n",
       "    </tr>\n",
       "  </thead>\n",
       "  <tbody>\n",
       "    <tr>\n",
       "      <th>0</th>\n",
       "      <td>200</td>\n",
       "      <td>0.485000</td>\n",
       "    </tr>\n",
       "    <tr>\n",
       "      <th>1</th>\n",
       "      <td>400</td>\n",
       "      <td>0.525000</td>\n",
       "    </tr>\n",
       "    <tr>\n",
       "      <th>2</th>\n",
       "      <td>600</td>\n",
       "      <td>0.556856</td>\n",
       "    </tr>\n",
       "    <tr>\n",
       "      <th>3</th>\n",
       "      <td>800</td>\n",
       "      <td>0.540717</td>\n",
       "    </tr>\n",
       "    <tr>\n",
       "      <th>4</th>\n",
       "      <td>1000</td>\n",
       "      <td>0.539362</td>\n",
       "    </tr>\n",
       "    <tr>\n",
       "      <th>5</th>\n",
       "      <td>1200</td>\n",
       "      <td>0.541667</td>\n",
       "    </tr>\n",
       "  </tbody>\n",
       "</table>\n",
       "</div>"
      ],
      "text/plain": [
       "   testing_points  pred_score\n",
       "0             200    0.485000\n",
       "1             400    0.525000\n",
       "2             600    0.556856\n",
       "3             800    0.540717\n",
       "4            1000    0.539362\n",
       "5            1200    0.541667"
      ]
     },
     "execution_count": 34,
     "metadata": {},
     "output_type": "execute_result"
    }
   ],
   "source": [
    "from sklearn.metrics import precision_score\n",
    "import numpy as np\n",
    "from sklearn.svm import SVC\n",
    "from sklearn.model_selection import GridSearchCV\n",
    "import pandas as pd\n",
    "\n",
    "scores_6 = []\n",
    "\n",
    "for i in range(6):\n",
    "    \n",
    "    random_grid = SVC()\n",
    "    \n",
    "    train = nifty50.iloc[:-200*(i+1)]\n",
    "    test = nifty50.iloc[-200*(i+1):]\n",
    "    \n",
    "    predictors = ['Close','Volume','Open','High','Low']\n",
    "    random_grid.fit(train[predictors],train['Target'])\n",
    "    \n",
    "    preds = random_grid.predict(test[predictors])\n",
    "    \n",
    "    preds = pd.Series(preds,index=test.index)\n",
    "    \n",
    "    score = precision_score(test['Target'], preds)\n",
    "    \n",
    "    scores_6.append({\n",
    "        'testing_points':200*(i+1),\n",
    "        'pred_score':score\n",
    "    })\n",
    "    \n",
    "dataframe = pd.DataFrame(scores_6,columns=['testing_points','pred_score'])\n",
    "dataframe"
   ]
  },
  {
   "cell_type": "code",
   "execution_count": 35,
   "id": "9394920d",
   "metadata": {},
   "outputs": [
    {
     "name": "stdout",
     "output_type": "stream",
     "text": [
      "Average accuracy of above model :  0.531433528077191\n"
     ]
    }
   ],
   "source": [
    "a = dataframe.pred_score\n",
    "print('Average accuracy of above model : ', np.average(a))"
   ]
  },
  {
   "cell_type": "markdown",
   "id": "cee01d4d",
   "metadata": {},
   "source": [
    "## We are choosing top 3 models from above machine learning models for ensemble technique. Those are,\n",
    "- Decision tree\n",
    "- Gaussian naive bayes\n",
    "- Random forest "
   ]
  },
  {
   "cell_type": "markdown",
   "id": "bcf2a7e8",
   "metadata": {},
   "source": [
    "### (7) AdaBoost model"
   ]
  },
  {
   "cell_type": "markdown",
   "id": "90440f18",
   "metadata": {},
   "source": [
    "#### Ada + Decision tree"
   ]
  },
  {
   "cell_type": "code",
   "execution_count": 36,
   "id": "4df7d13a",
   "metadata": {},
   "outputs": [],
   "source": [
    "import pandas as pd\n",
    "import numpy as np\n",
    "from sklearn.ensemble import AdaBoostClassifier,RandomForestClassifier\n",
    "from sklearn.model_selection import train_test_split,cross_val_score\n",
    "from sklearn.metrics import f1_score,mean_squared_error,mean_absolute_error\n",
    "from sklearn.tree import DecisionTreeClassifier\n",
    "from sklearn.naive_bayes import BernoulliNB,GaussianNB\n",
    "from sklearn.preprocessing import StandardScaler"
   ]
  },
  {
   "cell_type": "code",
   "execution_count": 37,
   "id": "4d8807f9",
   "metadata": {},
   "outputs": [
    {
     "name": "stdout",
     "output_type": "stream",
     "text": [
      "Score of given model is  0.5735294117647058\n"
     ]
    }
   ],
   "source": [
    "dtc_model = DecisionTreeClassifier(max_depth=8,splitter='best',max_features= 'sqrt')\n",
    "ada_model_dtc = AdaBoostClassifier(\n",
    "    base_estimator = dtc_model,\n",
    "    n_estimators = 400,\n",
    "    learning_rate = 1,\n",
    "    random_state = 40\n",
    ")\n",
    "\n",
    "train = nifty50.iloc[:-600]\n",
    "test = nifty50.iloc[-600:]\n",
    "\n",
    "predictors = ['Close','Volume','Open','High','Low']\n",
    "ada_model_dtc.fit(train[predictors],train['Target'])\n",
    "    \n",
    "preds = ada_model_dtc.predict(test[predictors])  \n",
    "preds = pd.Series(preds,index=test.index)   \n",
    "score = precision_score(test['Target'], preds)\n",
    "\n",
    "print('Score of given model is ', score)"
   ]
  },
  {
   "cell_type": "markdown",
   "id": "74d1b026",
   "metadata": {},
   "source": [
    "#### Ada + Random forest"
   ]
  },
  {
   "cell_type": "code",
   "execution_count": 38,
   "id": "09824217",
   "metadata": {},
   "outputs": [
    {
     "name": "stdout",
     "output_type": "stream",
     "text": [
      "Score of this model is  0.575\n"
     ]
    }
   ],
   "source": [
    "random_model = RandomForestClassifier(max_depth=64,max_features='sqrt',min_samples_split=4,n_estimators=100)\n",
    "ada_model_random = AdaBoostClassifier(\n",
    "    base_estimator = random_model,\n",
    "    n_estimators = 200,\n",
    "    learning_rate = 1,\n",
    "    random_state = 40\n",
    ")\n",
    "\n",
    "train = nifty50.iloc[:-800]\n",
    "test = nifty50.iloc[-800:]\n",
    "\n",
    "predictors = ['Close','Volume','Open','High','Low']\n",
    "ada_model_random.fit(train[predictors],train['Target'])\n",
    "    \n",
    "preds = ada_model_random.predict(test[predictors])  \n",
    "preds = pd.Series(preds,index=test.index)   \n",
    "score = precision_score(test['Target'], preds)\n",
    "\n",
    "print('Score of this model is ', score)"
   ]
  },
  {
   "cell_type": "markdown",
   "id": "1ebb9750",
   "metadata": {},
   "source": [
    "#### Ada + GaussiNB"
   ]
  },
  {
   "cell_type": "code",
   "execution_count": 39,
   "id": "4eb46f3e",
   "metadata": {},
   "outputs": [
    {
     "name": "stdout",
     "output_type": "stream",
     "text": [
      "Score of this model is  0.6097560975609756\n"
     ]
    }
   ],
   "source": [
    "gaussinb_model = GaussianNB()\n",
    "ada_model_gaussi = AdaBoostClassifier(\n",
    "    base_estimator = gaussinb_model,\n",
    "    n_estimators = 200,\n",
    "    learning_rate = 1,\n",
    "    random_state = 40\n",
    ")\n",
    "\n",
    "train = nifty50.iloc[:-800]\n",
    "test = nifty50.iloc[-800:]\n",
    "\n",
    "predictors = ['Close','Volume','Open','High','Low']\n",
    "ada_model_gaussi.fit(train[predictors],train['Target'])\n",
    "    \n",
    "preds = ada_model_gaussi.predict(test[predictors])  \n",
    "preds = pd.Series(preds,index=test.index)   \n",
    "score = precision_score(test['Target'], preds)\n",
    "\n",
    "print('Score of this model is ', score)"
   ]
  },
  {
   "cell_type": "markdown",
   "id": "ea501397",
   "metadata": {},
   "source": [
    "### (8) Gradient Boosting"
   ]
  },
  {
   "cell_type": "code",
   "execution_count": 40,
   "id": "027949cb",
   "metadata": {},
   "outputs": [
    {
     "name": "stdout",
     "output_type": "stream",
     "text": [
      "      Iter       Train Loss      OOB Improve   Remaining Time \n",
      "         1           1.2865           0.0057            2.32m\n",
      "         2           1.2159          -0.0022            3.27m\n",
      "         3           1.1530           0.0028            4.32m\n",
      "         4           1.0900           0.0003            4.05m\n",
      "         5           1.0326          -0.0015            4.29m\n",
      "         6           0.9807          -0.0051            4.32m\n",
      "         7           0.9328          -0.0011            4.50m\n",
      "         8           0.8861          -0.0013            4.45m\n",
      "         9           0.8430          -0.0040            4.60m\n",
      "        10           0.8025          -0.0035            4.66m\n",
      "        20           0.5065          -0.0016            5.46m\n",
      "Score of this model is  0.63125\n"
     ]
    }
   ],
   "source": [
    "from sklearn.ensemble import GradientBoostingClassifier\n",
    "\n",
    "gb_model = GradientBoostingClassifier(\n",
    "    n_estimators = 4000,\n",
    "    learning_rate = 0.05,\n",
    "    max_depth = 64,\n",
    "    subsample = 0.8,\n",
    "    validation_fraction = 0.2,\n",
    "    n_iter_no_change = 26,\n",
    "    verbose = 1\n",
    ")\n",
    "\n",
    "train = nifty50.iloc[:-800]\n",
    "test = nifty50.iloc[-800:]\n",
    "\n",
    "predictors = ['Close','Volume','Open','High','Low']\n",
    "gb_model.fit(train[predictors],train['Target'])\n",
    "    \n",
    "preds = gb_model.predict(test[predictors])  \n",
    "preds = pd.Series(preds,index=test.index)   \n",
    "score = precision_score(test['Target'], preds)\n",
    "\n",
    "print('Score of this model is ', score)"
   ]
  },
  {
   "cell_type": "markdown",
   "id": "8f4731e7",
   "metadata": {},
   "source": [
    "### Predicted VS Actual using gradient boosting"
   ]
  },
  {
   "cell_type": "code",
   "execution_count": 41,
   "id": "1e304fea",
   "metadata": {
    "scrolled": false
   },
   "outputs": [
    {
     "data": {
      "text/plain": [
       "<AxesSubplot:xlabel='Date'>"
      ]
     },
     "execution_count": 41,
     "metadata": {},
     "output_type": "execute_result"
    },
    {
     "data": {
      "image/png": "[encoded data removed]",
      "text/plain": [
       "<Figure size 432x288 with 1 Axes>"
      ]
     },
     "metadata": {
      "needs_background": "light"
     },
     "output_type": "display_data"
    }
   ],
   "source": [
    "combined = pd.concat([test['Target'], preds], axis=1)\n",
    "\n",
    "combined.plot()"
   ]
  },
  {
   "cell_type": "markdown",
   "id": "d26c1675",
   "metadata": {},
   "source": [
    "## We are improving all models having precision score greater than 0.55 and more generalized. Those are, \n",
    "\n",
    "- Random forest\n",
    "- Ada + GaussianNB\n",
    "- Gradient Boosting\n",
    "- Ada + Random forest\n",
    "- Ada + Decision tree"
   ]
  },
  {
   "cell_type": "markdown",
   "id": "e8c37204",
   "metadata": {},
   "source": [
    "## Now we use [ Backtesting + Rolling average technique]  to improve performance"
   ]
  },
  {
   "cell_type": "code",
   "execution_count": 42,
   "id": "392cd1e8",
   "metadata": {},
   "outputs": [],
   "source": [
    "def predict(train,test,predictors,model):\n",
    "    model.fit(train[predictors], train['Target'])\n",
    "    preds = model.predict(test[predictors])\n",
    "    preds = pd.Series(preds, index=test.index, name='Predictions')\n",
    "    combined = pd.concat([test['Target'], preds], axis=1)\n",
    "    return combined"
   ]
  },
  {
   "cell_type": "code",
   "execution_count": 43,
   "id": "41fccc2f",
   "metadata": {},
   "outputs": [],
   "source": [
    "def backtest(data,model,predictors,start=2000, step=250):\n",
    "    all_predictions = []\n",
    "    for i in range(start,data.shape[0],step):\n",
    "        train = data.iloc[0:i].copy()\n",
    "        test = data.iloc[i:(i+step)].copy()\n",
    "        predictions = predict(train, test, predictors, model)\n",
    "        all_predictions.append(predictions)\n",
    "    return pd.concat(all_predictions)"
   ]
  },
  {
   "cell_type": "markdown",
   "id": "02819021",
   "metadata": {},
   "source": [
    "### Backtesting for gradient boosting"
   ]
  },
  {
   "cell_type": "code",
   "execution_count": 44,
   "id": "4dae504f",
   "metadata": {
    "scrolled": true
   },
   "outputs": [
    {
     "name": "stdout",
     "output_type": "stream",
     "text": [
      "      Iter       Train Loss      OOB Improve   Remaining Time \n",
      "         1           1.2885          -0.0003            1.88m\n",
      "         2           1.2168          -0.0014            1.98m\n",
      "         3           1.1534          -0.0047            2.01m\n",
      "         4           1.0922          -0.0039            2.17m\n",
      "         5           1.0350          -0.0056            2.27m\n",
      "         6           0.9824          -0.0038            2.46m\n",
      "         7           0.9338          -0.0022            2.47m\n",
      "         8           0.8884           0.0028            2.69m\n",
      "         9           0.8453          -0.0025            2.74m\n",
      "        10           0.8038          -0.0022            2.97m\n",
      "        20           0.5074          -0.0007            3.46m\n",
      "      Iter       Train Loss      OOB Improve   Remaining Time \n",
      "         1           1.2886          -0.0036            3.16m\n",
      "         2           1.2180           0.0000            2.78m\n",
      "         3           1.1535          -0.0035            2.90m\n",
      "         4           1.1179          -0.0054            3.23m\n",
      "         5           1.0568          -0.0016            3.23m\n",
      "         6           1.0041          -0.0079            3.32m\n",
      "         7           0.9504          -0.0064            3.36m\n",
      "         8           0.9052           0.0022            3.47m\n",
      "         9           0.8633           0.0018            3.55m\n",
      "        10           0.8207          -0.0042            3.62m\n",
      "        20           0.5220          -0.0006            4.15m\n",
      "      Iter       Train Loss      OOB Improve   Remaining Time \n",
      "         1           1.2875          -0.0015            3.08m\n",
      "         2           1.2173          -0.0004            3.12m\n",
      "         3           1.1503           0.0025            3.33m\n",
      "         4           1.0886          -0.0142            3.51m\n",
      "         5           1.0395          -0.0064            3.56m\n",
      "         6           1.0091           0.0015            3.89m\n",
      "         7           0.9524          -0.0048            4.01m\n",
      "         8           0.9038          -0.0038            4.08m\n",
      "         9           0.8678          -0.0038            4.21m\n",
      "        10           0.8289           0.0011            4.33m\n",
      "        20           0.5420          -0.0031            5.01m\n",
      "      Iter       Train Loss      OOB Improve   Remaining Time \n",
      "         1           1.2867          -0.0068            3.45m\n",
      "         2           1.2170           0.0020            3.17m\n",
      "         3           1.1518          -0.0082            3.52m\n",
      "         4           1.0905          -0.0081            3.59m\n",
      "         5           1.0348          -0.0051            3.61m\n",
      "         6           0.9877          -0.0031            3.81m\n",
      "         7           0.9361          -0.0042            3.92m\n",
      "         8           0.8884          -0.0060            4.19m\n",
      "         9           0.8473          -0.0029            4.16m\n",
      "        10           0.8057          -0.0009            4.38m\n",
      "        20           0.5123          -0.0022            4.98m\n",
      "      Iter       Train Loss      OOB Improve   Remaining Time \n",
      "         1           1.2865          -0.0063            4.20m\n",
      "         2           1.2164          -0.0077            4.21m\n",
      "         3           1.1645          -0.0082            4.77m\n",
      "         4           1.1061          -0.0011            4.75m\n",
      "         5           1.0467          -0.0042            4.85m\n",
      "         6           0.9953          -0.0005            5.07m\n",
      "         7           0.9453          -0.0024            5.09m\n",
      "         8           0.8992          -0.0041            5.11m\n",
      "         9           0.8504          -0.0084            5.18m\n",
      "        10           0.8185          -0.0039            5.40m\n",
      "        20           0.5442          -0.0000            5.95m\n",
      "      Iter       Train Loss      OOB Improve   Remaining Time \n",
      "         1           1.2900          -0.0058            3.40m\n",
      "         2           1.2187          -0.0074            4.21m\n",
      "         3           1.1538          -0.0007            4.21m\n",
      "         4           1.0987          -0.0023            4.89m\n",
      "         5           1.0403          -0.0006            5.01m\n",
      "         6           0.9862          -0.0018            5.12m\n",
      "         7           0.9366          -0.0049            5.29m\n",
      "         8           0.8951          -0.0036            5.42m\n",
      "         9           0.8479          -0.0060            5.63m\n",
      "        10           0.8103          -0.0020            5.74m\n",
      "        20           0.5184          -0.0015            6.53m\n",
      "      Iter       Train Loss      OOB Improve   Remaining Time \n",
      "         1           1.2842           0.0000            4.17m\n",
      "         2           1.2149          -0.0020            3.66m\n",
      "         3           1.1503          -0.0004            4.18m\n",
      "         4           1.0882          -0.0074            4.47m\n",
      "         5           1.0337           0.0018            4.79m\n",
      "         6           0.9790           0.0019            4.85m\n",
      "         7           0.9297          -0.0033            5.13m\n",
      "         8           0.8849          -0.0033            5.28m\n",
      "         9           0.8416          -0.0005            5.40m\n",
      "        10           0.7986          -0.0018            5.55m\n",
      "        20           0.5089          -0.0018            6.57m\n"
     ]
    }
   ],
   "source": [
    "predictions = backtest(nifty50, gb_model, predictors)"
   ]
  },
  {
   "cell_type": "code",
   "execution_count": 45,
   "id": "54f79e62",
   "metadata": {},
   "outputs": [
    {
     "data": {
      "text/plain": [
       "1    1063\n",
       "0     653\n",
       "Name: Predictions, dtype: int64"
      ]
     },
     "execution_count": 45,
     "metadata": {},
     "output_type": "execute_result"
    }
   ],
   "source": [
    "predictions['Predictions'].value_counts()"
   ]
  },
  {
   "cell_type": "code",
   "execution_count": 46,
   "id": "e811b13f",
   "metadata": {},
   "outputs": [
    {
     "name": "stdout",
     "output_type": "stream",
     "text": [
      "Precision score of model is  0.5343367826904986\n"
     ]
    }
   ],
   "source": [
    "print('Precision score of model is ', precision_score(predictions['Target'], predictions['Predictions']))"
   ]
  },
  {
   "cell_type": "markdown",
   "id": "a3e62475",
   "metadata": {},
   "source": [
    "### Backtesting for (AdaBoost + Random forest)"
   ]
  },
  {
   "cell_type": "code",
   "execution_count": 47,
   "id": "b917aa23",
   "metadata": {},
   "outputs": [],
   "source": [
    "predictions = backtest(nifty50, ada_model_random, predictors)"
   ]
  },
  {
   "cell_type": "code",
   "execution_count": 48,
   "id": "f924b2a1",
   "metadata": {},
   "outputs": [
    {
     "data": {
      "text/plain": [
       "0    1085\n",
       "1     631\n",
       "Name: Predictions, dtype: int64"
      ]
     },
     "execution_count": 48,
     "metadata": {},
     "output_type": "execute_result"
    }
   ],
   "source": [
    "predictions['Predictions'].value_counts()"
   ]
  },
  {
   "cell_type": "code",
   "execution_count": 49,
   "id": "e9c96e42",
   "metadata": {},
   "outputs": [
    {
     "name": "stdout",
     "output_type": "stream",
     "text": [
      "Precision score of model is  0.526148969889065\n"
     ]
    }
   ],
   "source": [
    "print('Precision score of model is ', precision_score(predictions['Target'], predictions['Predictions']))"
   ]
  },
  {
   "cell_type": "markdown",
   "id": "ab9dfa3a",
   "metadata": {},
   "source": [
    "## Improvement in this two models using rolling averages"
   ]
  },
  {
   "cell_type": "code",
   "execution_count": 50,
   "id": "483d36e4",
   "metadata": {},
   "outputs": [
    {
     "data": {
      "text/html": [
       "<div>\n",
       "<style scoped>\n",
       "    .dataframe tbody tr th:only-of-type {\n",
       "        vertical-align: middle;\n",
       "    }\n",
       "\n",
       "    .dataframe tbody tr th {\n",
       "        vertical-align: top;\n",
       "    }\n",
       "\n",
       "    .dataframe thead th {\n",
       "        text-align: right;\n",
       "    }\n",
       "</style>\n",
       "<table border=\"1\" class=\"dataframe\">\n",
       "  <thead>\n",
       "    <tr style=\"text-align: right;\">\n",
       "      <th></th>\n",
       "      <th>Open</th>\n",
       "      <th>High</th>\n",
       "      <th>Low</th>\n",
       "      <th>Close</th>\n",
       "      <th>Volume</th>\n",
       "      <th>Dividends</th>\n",
       "      <th>MA for 5 days</th>\n",
       "      <th>MA for 10 days</th>\n",
       "      <th>MA for 20 days</th>\n",
       "      <th>Tomorrow</th>\n",
       "      <th>Target</th>\n",
       "    </tr>\n",
       "    <tr>\n",
       "      <th>Date</th>\n",
       "      <th></th>\n",
       "      <th></th>\n",
       "      <th></th>\n",
       "      <th></th>\n",
       "      <th></th>\n",
       "      <th></th>\n",
       "      <th></th>\n",
       "      <th></th>\n",
       "      <th></th>\n",
       "      <th></th>\n",
       "      <th></th>\n",
       "    </tr>\n",
       "  </thead>\n",
       "  <tbody>\n",
       "    <tr>\n",
       "      <th>2007-09-17 00:00:00+05:30</th>\n",
       "      <td>4518.450195</td>\n",
       "      <td>4549.049805</td>\n",
       "      <td>4482.850098</td>\n",
       "      <td>4494.649902</td>\n",
       "      <td>0</td>\n",
       "      <td>0</td>\n",
       "      <td>NaN</td>\n",
       "      <td>NaN</td>\n",
       "      <td>NaN</td>\n",
       "      <td>4546.200195</td>\n",
       "      <td>1</td>\n",
       "    </tr>\n",
       "    <tr>\n",
       "      <th>2007-09-18 00:00:00+05:30</th>\n",
       "      <td>4494.100098</td>\n",
       "      <td>4551.799805</td>\n",
       "      <td>4481.549805</td>\n",
       "      <td>4546.200195</td>\n",
       "      <td>0</td>\n",
       "      <td>0</td>\n",
       "      <td>NaN</td>\n",
       "      <td>NaN</td>\n",
       "      <td>NaN</td>\n",
       "      <td>4732.350098</td>\n",
       "      <td>1</td>\n",
       "    </tr>\n",
       "    <tr>\n",
       "      <th>2007-09-19 00:00:00+05:30</th>\n",
       "      <td>4550.250000</td>\n",
       "      <td>4739.000000</td>\n",
       "      <td>4550.250000</td>\n",
       "      <td>4732.350098</td>\n",
       "      <td>0</td>\n",
       "      <td>0</td>\n",
       "      <td>NaN</td>\n",
       "      <td>NaN</td>\n",
       "      <td>NaN</td>\n",
       "      <td>4747.549805</td>\n",
       "      <td>1</td>\n",
       "    </tr>\n",
       "    <tr>\n",
       "      <th>2007-09-20 00:00:00+05:30</th>\n",
       "      <td>4734.850098</td>\n",
       "      <td>4760.850098</td>\n",
       "      <td>4721.149902</td>\n",
       "      <td>4747.549805</td>\n",
       "      <td>0</td>\n",
       "      <td>0</td>\n",
       "      <td>NaN</td>\n",
       "      <td>NaN</td>\n",
       "      <td>NaN</td>\n",
       "      <td>4837.549805</td>\n",
       "      <td>1</td>\n",
       "    </tr>\n",
       "    <tr>\n",
       "      <th>2007-09-21 00:00:00+05:30</th>\n",
       "      <td>4752.950195</td>\n",
       "      <td>4855.700195</td>\n",
       "      <td>4733.700195</td>\n",
       "      <td>4837.549805</td>\n",
       "      <td>0</td>\n",
       "      <td>0</td>\n",
       "      <td>4671.659961</td>\n",
       "      <td>NaN</td>\n",
       "      <td>NaN</td>\n",
       "      <td>4932.200195</td>\n",
       "      <td>1</td>\n",
       "    </tr>\n",
       "    <tr>\n",
       "      <th>...</th>\n",
       "      <td>...</td>\n",
       "      <td>...</td>\n",
       "      <td>...</td>\n",
       "      <td>...</td>\n",
       "      <td>...</td>\n",
       "      <td>...</td>\n",
       "      <td>...</td>\n",
       "      <td>...</td>\n",
       "      <td>...</td>\n",
       "      <td>...</td>\n",
       "      <td>...</td>\n",
       "    </tr>\n",
       "    <tr>\n",
       "      <th>2022-11-11 00:00:00+05:30</th>\n",
       "      <td>18272.349609</td>\n",
       "      <td>18362.300781</td>\n",
       "      <td>18259.349609</td>\n",
       "      <td>18349.699219</td>\n",
       "      <td>378500</td>\n",
       "      <td>0</td>\n",
       "      <td>18170.969922</td>\n",
       "      <td>18093.479883</td>\n",
       "      <td>17785.507324</td>\n",
       "      <td>18329.150391</td>\n",
       "      <td>0</td>\n",
       "    </tr>\n",
       "    <tr>\n",
       "      <th>2022-11-14 00:00:00+05:30</th>\n",
       "      <td>18376.400391</td>\n",
       "      <td>18399.449219</td>\n",
       "      <td>18311.400391</td>\n",
       "      <td>18329.150391</td>\n",
       "      <td>301400</td>\n",
       "      <td>0</td>\n",
       "      <td>18213.369922</td>\n",
       "      <td>18147.714844</td>\n",
       "      <td>17851.247363</td>\n",
       "      <td>18403.400391</td>\n",
       "      <td>1</td>\n",
       "    </tr>\n",
       "    <tr>\n",
       "      <th>2022-11-15 00:00:00+05:30</th>\n",
       "      <td>18362.750000</td>\n",
       "      <td>18427.949219</td>\n",
       "      <td>18282.000000</td>\n",
       "      <td>18403.400391</td>\n",
       "      <td>250900</td>\n",
       "      <td>0</td>\n",
       "      <td>18253.489844</td>\n",
       "      <td>18186.834961</td>\n",
       "      <td>17912.132422</td>\n",
       "      <td>18409.650391</td>\n",
       "      <td>1</td>\n",
       "    </tr>\n",
       "    <tr>\n",
       "      <th>2022-11-16 00:00:00+05:30</th>\n",
       "      <td>18398.250000</td>\n",
       "      <td>18442.150391</td>\n",
       "      <td>18344.150391</td>\n",
       "      <td>18409.650391</td>\n",
       "      <td>219300</td>\n",
       "      <td>0</td>\n",
       "      <td>18304.019922</td>\n",
       "      <td>18213.259961</td>\n",
       "      <td>17967.024902</td>\n",
       "      <td>18343.900391</td>\n",
       "      <td>0</td>\n",
       "    </tr>\n",
       "    <tr>\n",
       "      <th>2022-11-17 00:00:00+05:30</th>\n",
       "      <td>18358.699219</td>\n",
       "      <td>18417.599609</td>\n",
       "      <td>18312.949219</td>\n",
       "      <td>18343.900391</td>\n",
       "      <td>0</td>\n",
       "      <td>0</td>\n",
       "      <td>18367.160156</td>\n",
       "      <td>18239.365039</td>\n",
       "      <td>18009.872461</td>\n",
       "      <td>NaN</td>\n",
       "      <td>0</td>\n",
       "    </tr>\n",
       "  </tbody>\n",
       "</table>\n",
       "<p>3716 rows × 11 columns</p>\n",
       "</div>"
      ],
      "text/plain": [
       "                                   Open          High           Low  \\\n",
       "Date                                                                  \n",
       "2007-09-17 00:00:00+05:30   4518.450195   4549.049805   4482.850098   \n",
       "2007-09-18 00:00:00+05:30   4494.100098   4551.799805   4481.549805   \n",
       "2007-09-19 00:00:00+05:30   4550.250000   4739.000000   4550.250000   \n",
       "2007-09-20 00:00:00+05:30   4734.850098   4760.850098   4721.149902   \n",
       "2007-09-21 00:00:00+05:30   4752.950195   4855.700195   4733.700195   \n",
       "...                                 ...           ...           ...   \n",
       "2022-11-11 00:00:00+05:30  18272.349609  18362.300781  18259.349609   \n",
       "2022-11-14 00:00:00+05:30  18376.400391  18399.449219  18311.400391   \n",
       "2022-11-15 00:00:00+05:30  18362.750000  18427.949219  18282.000000   \n",
       "2022-11-16 00:00:00+05:30  18398.250000  18442.150391  18344.150391   \n",
       "2022-11-17 00:00:00+05:30  18358.699219  18417.599609  18312.949219   \n",
       "\n",
       "                                  Close  Volume  Dividends  MA for 5 days  \\\n",
       "Date                                                                        \n",
       "2007-09-17 00:00:00+05:30   4494.649902       0          0            NaN   \n",
       "2007-09-18 00:00:00+05:30   4546.200195       0          0            NaN   \n",
       "2007-09-19 00:00:00+05:30   4732.350098       0          0            NaN   \n",
       "2007-09-20 00:00:00+05:30   4747.549805       0          0            NaN   \n",
       "2007-09-21 00:00:00+05:30   4837.549805       0          0    4671.659961   \n",
       "...                                 ...     ...        ...            ...   \n",
       "2022-11-11 00:00:00+05:30  18349.699219  378500          0   18170.969922   \n",
       "2022-11-14 00:00:00+05:30  18329.150391  301400          0   18213.369922   \n",
       "2022-11-15 00:00:00+05:30  18403.400391  250900          0   18253.489844   \n",
       "2022-11-16 00:00:00+05:30  18409.650391  219300          0   18304.019922   \n",
       "2022-11-17 00:00:00+05:30  18343.900391       0          0   18367.160156   \n",
       "\n",
       "                           MA for 10 days  MA for 20 days      Tomorrow  \\\n",
       "Date                                                                      \n",
       "2007-09-17 00:00:00+05:30             NaN             NaN   4546.200195   \n",
       "2007-09-18 00:00:00+05:30             NaN             NaN   4732.350098   \n",
       "2007-09-19 00:00:00+05:30             NaN             NaN   4747.549805   \n",
       "2007-09-20 00:00:00+05:30             NaN             NaN   4837.549805   \n",
       "2007-09-21 00:00:00+05:30             NaN             NaN   4932.200195   \n",
       "...                                   ...             ...           ...   \n",
       "2022-11-11 00:00:00+05:30    18093.479883    17785.507324  18329.150391   \n",
       "2022-11-14 00:00:00+05:30    18147.714844    17851.247363  18403.400391   \n",
       "2022-11-15 00:00:00+05:30    18186.834961    17912.132422  18409.650391   \n",
       "2022-11-16 00:00:00+05:30    18213.259961    17967.024902  18343.900391   \n",
       "2022-11-17 00:00:00+05:30    18239.365039    18009.872461           NaN   \n",
       "\n",
       "                           Target  \n",
       "Date                               \n",
       "2007-09-17 00:00:00+05:30       1  \n",
       "2007-09-18 00:00:00+05:30       1  \n",
       "2007-09-19 00:00:00+05:30       1  \n",
       "2007-09-20 00:00:00+05:30       1  \n",
       "2007-09-21 00:00:00+05:30       1  \n",
       "...                           ...  \n",
       "2022-11-11 00:00:00+05:30       0  \n",
       "2022-11-14 00:00:00+05:30       1  \n",
       "2022-11-15 00:00:00+05:30       1  \n",
       "2022-11-16 00:00:00+05:30       0  \n",
       "2022-11-17 00:00:00+05:30       0  \n",
       "\n",
       "[3716 rows x 11 columns]"
      ]
     },
     "execution_count": 50,
     "metadata": {},
     "output_type": "execute_result"
    }
   ],
   "source": [
    "nifty50"
   ]
  },
  {
   "cell_type": "code",
   "execution_count": 51,
   "id": "0c3f9b71",
   "metadata": {},
   "outputs": [],
   "source": [
    "horizons = [2,5,60,250,1000]\n",
    "\n",
    "new_predictors = []\n",
    "\n",
    "for horizon in horizons:\n",
    "    rolling_averages = nifty50.rolling(horizon).mean()\n",
    "    \n",
    "    ratio_column = f'Close_Ratio_{horizon}'\n",
    "    nifty50[ratio_column] = nifty50['Close'] / rolling_averages['Close']\n",
    "    \n",
    "    trend_column = f'Trend_{horizon}'\n",
    "    nifty50[trend_column] = nifty50.shift(1).rolling(horizon).sum()['Target']\n",
    "    \n",
    "    new_predictors += [ratio_column, trend_column]"
   ]
  },
  {
   "cell_type": "code",
   "execution_count": 52,
   "id": "014ce69a",
   "metadata": {
    "scrolled": true
   },
   "outputs": [
    {
     "data": {
      "text/html": [
       "<div>\n",
       "<style scoped>\n",
       "    .dataframe tbody tr th:only-of-type {\n",
       "        vertical-align: middle;\n",
       "    }\n",
       "\n",
       "    .dataframe tbody tr th {\n",
       "        vertical-align: top;\n",
       "    }\n",
       "\n",
       "    .dataframe thead th {\n",
       "        text-align: right;\n",
       "    }\n",
       "</style>\n",
       "<table border=\"1\" class=\"dataframe\">\n",
       "  <thead>\n",
       "    <tr style=\"text-align: right;\">\n",
       "      <th></th>\n",
       "      <th>Open</th>\n",
       "      <th>High</th>\n",
       "      <th>Low</th>\n",
       "      <th>Close</th>\n",
       "      <th>Volume</th>\n",
       "      <th>Dividends</th>\n",
       "      <th>MA for 5 days</th>\n",
       "      <th>MA for 10 days</th>\n",
       "      <th>MA for 20 days</th>\n",
       "      <th>Tomorrow</th>\n",
       "      <th>...</th>\n",
       "      <th>Close_Ratio_2</th>\n",
       "      <th>Trend_2</th>\n",
       "      <th>Close_Ratio_5</th>\n",
       "      <th>Trend_5</th>\n",
       "      <th>Close_Ratio_60</th>\n",
       "      <th>Trend_60</th>\n",
       "      <th>Close_Ratio_250</th>\n",
       "      <th>Trend_250</th>\n",
       "      <th>Close_Ratio_1000</th>\n",
       "      <th>Trend_1000</th>\n",
       "    </tr>\n",
       "    <tr>\n",
       "      <th>Date</th>\n",
       "      <th></th>\n",
       "      <th></th>\n",
       "      <th></th>\n",
       "      <th></th>\n",
       "      <th></th>\n",
       "      <th></th>\n",
       "      <th></th>\n",
       "      <th></th>\n",
       "      <th></th>\n",
       "      <th></th>\n",
       "      <th></th>\n",
       "      <th></th>\n",
       "      <th></th>\n",
       "      <th></th>\n",
       "      <th></th>\n",
       "      <th></th>\n",
       "      <th></th>\n",
       "      <th></th>\n",
       "      <th></th>\n",
       "      <th></th>\n",
       "      <th></th>\n",
       "    </tr>\n",
       "  </thead>\n",
       "  <tbody>\n",
       "    <tr>\n",
       "      <th>2007-09-17 00:00:00+05:30</th>\n",
       "      <td>4518.450195</td>\n",
       "      <td>4549.049805</td>\n",
       "      <td>4482.850098</td>\n",
       "      <td>4494.649902</td>\n",
       "      <td>0</td>\n",
       "      <td>0</td>\n",
       "      <td>NaN</td>\n",
       "      <td>NaN</td>\n",
       "      <td>NaN</td>\n",
       "      <td>4546.200195</td>\n",
       "      <td>...</td>\n",
       "      <td>NaN</td>\n",
       "      <td>NaN</td>\n",
       "      <td>NaN</td>\n",
       "      <td>NaN</td>\n",
       "      <td>NaN</td>\n",
       "      <td>NaN</td>\n",
       "      <td>NaN</td>\n",
       "      <td>NaN</td>\n",
       "      <td>NaN</td>\n",
       "      <td>NaN</td>\n",
       "    </tr>\n",
       "    <tr>\n",
       "      <th>2007-09-18 00:00:00+05:30</th>\n",
       "      <td>4494.100098</td>\n",
       "      <td>4551.799805</td>\n",
       "      <td>4481.549805</td>\n",
       "      <td>4546.200195</td>\n",
       "      <td>0</td>\n",
       "      <td>0</td>\n",
       "      <td>NaN</td>\n",
       "      <td>NaN</td>\n",
       "      <td>NaN</td>\n",
       "      <td>4732.350098</td>\n",
       "      <td>...</td>\n",
       "      <td>1.005702</td>\n",
       "      <td>NaN</td>\n",
       "      <td>NaN</td>\n",
       "      <td>NaN</td>\n",
       "      <td>NaN</td>\n",
       "      <td>NaN</td>\n",
       "      <td>NaN</td>\n",
       "      <td>NaN</td>\n",
       "      <td>NaN</td>\n",
       "      <td>NaN</td>\n",
       "    </tr>\n",
       "    <tr>\n",
       "      <th>2007-09-19 00:00:00+05:30</th>\n",
       "      <td>4550.250000</td>\n",
       "      <td>4739.000000</td>\n",
       "      <td>4550.250000</td>\n",
       "      <td>4732.350098</td>\n",
       "      <td>0</td>\n",
       "      <td>0</td>\n",
       "      <td>NaN</td>\n",
       "      <td>NaN</td>\n",
       "      <td>NaN</td>\n",
       "      <td>4747.549805</td>\n",
       "      <td>...</td>\n",
       "      <td>1.020062</td>\n",
       "      <td>2.0</td>\n",
       "      <td>NaN</td>\n",
       "      <td>NaN</td>\n",
       "      <td>NaN</td>\n",
       "      <td>NaN</td>\n",
       "      <td>NaN</td>\n",
       "      <td>NaN</td>\n",
       "      <td>NaN</td>\n",
       "      <td>NaN</td>\n",
       "    </tr>\n",
       "    <tr>\n",
       "      <th>2007-09-20 00:00:00+05:30</th>\n",
       "      <td>4734.850098</td>\n",
       "      <td>4760.850098</td>\n",
       "      <td>4721.149902</td>\n",
       "      <td>4747.549805</td>\n",
       "      <td>0</td>\n",
       "      <td>0</td>\n",
       "      <td>NaN</td>\n",
       "      <td>NaN</td>\n",
       "      <td>NaN</td>\n",
       "      <td>4837.549805</td>\n",
       "      <td>...</td>\n",
       "      <td>1.001603</td>\n",
       "      <td>2.0</td>\n",
       "      <td>NaN</td>\n",
       "      <td>NaN</td>\n",
       "      <td>NaN</td>\n",
       "      <td>NaN</td>\n",
       "      <td>NaN</td>\n",
       "      <td>NaN</td>\n",
       "      <td>NaN</td>\n",
       "      <td>NaN</td>\n",
       "    </tr>\n",
       "    <tr>\n",
       "      <th>2007-09-21 00:00:00+05:30</th>\n",
       "      <td>4752.950195</td>\n",
       "      <td>4855.700195</td>\n",
       "      <td>4733.700195</td>\n",
       "      <td>4837.549805</td>\n",
       "      <td>0</td>\n",
       "      <td>0</td>\n",
       "      <td>4671.659961</td>\n",
       "      <td>NaN</td>\n",
       "      <td>NaN</td>\n",
       "      <td>4932.200195</td>\n",
       "      <td>...</td>\n",
       "      <td>1.009390</td>\n",
       "      <td>2.0</td>\n",
       "      <td>1.035510</td>\n",
       "      <td>NaN</td>\n",
       "      <td>NaN</td>\n",
       "      <td>NaN</td>\n",
       "      <td>NaN</td>\n",
       "      <td>NaN</td>\n",
       "      <td>NaN</td>\n",
       "      <td>NaN</td>\n",
       "    </tr>\n",
       "    <tr>\n",
       "      <th>...</th>\n",
       "      <td>...</td>\n",
       "      <td>...</td>\n",
       "      <td>...</td>\n",
       "      <td>...</td>\n",
       "      <td>...</td>\n",
       "      <td>...</td>\n",
       "      <td>...</td>\n",
       "      <td>...</td>\n",
       "      <td>...</td>\n",
       "      <td>...</td>\n",
       "      <td>...</td>\n",
       "      <td>...</td>\n",
       "      <td>...</td>\n",
       "      <td>...</td>\n",
       "      <td>...</td>\n",
       "      <td>...</td>\n",
       "      <td>...</td>\n",
       "      <td>...</td>\n",
       "      <td>...</td>\n",
       "      <td>...</td>\n",
       "      <td>...</td>\n",
       "    </tr>\n",
       "    <tr>\n",
       "      <th>2022-11-11 00:00:00+05:30</th>\n",
       "      <td>18272.349609</td>\n",
       "      <td>18362.300781</td>\n",
       "      <td>18259.349609</td>\n",
       "      <td>18349.699219</td>\n",
       "      <td>378500</td>\n",
       "      <td>0</td>\n",
       "      <td>18170.969922</td>\n",
       "      <td>18093.479883</td>\n",
       "      <td>17785.507324</td>\n",
       "      <td>18329.150391</td>\n",
       "      <td>...</td>\n",
       "      <td>1.008838</td>\n",
       "      <td>1.0</td>\n",
       "      <td>1.009836</td>\n",
       "      <td>3.0</td>\n",
       "      <td>1.042434</td>\n",
       "      <td>32.0</td>\n",
       "      <td>1.073157</td>\n",
       "      <td>122.0</td>\n",
       "      <td>1.343166</td>\n",
       "      <td>545.0</td>\n",
       "    </tr>\n",
       "    <tr>\n",
       "      <th>2022-11-14 00:00:00+05:30</th>\n",
       "      <td>18376.400391</td>\n",
       "      <td>18399.449219</td>\n",
       "      <td>18311.400391</td>\n",
       "      <td>18329.150391</td>\n",
       "      <td>301400</td>\n",
       "      <td>0</td>\n",
       "      <td>18213.369922</td>\n",
       "      <td>18147.714844</td>\n",
       "      <td>17851.247363</td>\n",
       "      <td>18403.400391</td>\n",
       "      <td>...</td>\n",
       "      <td>0.999440</td>\n",
       "      <td>1.0</td>\n",
       "      <td>1.006357</td>\n",
       "      <td>2.0</td>\n",
       "      <td>1.040770</td>\n",
       "      <td>31.0</td>\n",
       "      <td>1.071877</td>\n",
       "      <td>122.0</td>\n",
       "      <td>1.340868</td>\n",
       "      <td>545.0</td>\n",
       "    </tr>\n",
       "    <tr>\n",
       "      <th>2022-11-15 00:00:00+05:30</th>\n",
       "      <td>18362.750000</td>\n",
       "      <td>18427.949219</td>\n",
       "      <td>18282.000000</td>\n",
       "      <td>18403.400391</td>\n",
       "      <td>250900</td>\n",
       "      <td>0</td>\n",
       "      <td>18253.489844</td>\n",
       "      <td>18186.834961</td>\n",
       "      <td>17912.132422</td>\n",
       "      <td>18409.650391</td>\n",
       "      <td>...</td>\n",
       "      <td>1.002021</td>\n",
       "      <td>1.0</td>\n",
       "      <td>1.008213</td>\n",
       "      <td>2.0</td>\n",
       "      <td>1.044532</td>\n",
       "      <td>31.0</td>\n",
       "      <td>1.076086</td>\n",
       "      <td>123.0</td>\n",
       "      <td>1.345487</td>\n",
       "      <td>546.0</td>\n",
       "    </tr>\n",
       "    <tr>\n",
       "      <th>2022-11-16 00:00:00+05:30</th>\n",
       "      <td>18398.250000</td>\n",
       "      <td>18442.150391</td>\n",
       "      <td>18344.150391</td>\n",
       "      <td>18409.650391</td>\n",
       "      <td>219300</td>\n",
       "      <td>0</td>\n",
       "      <td>18304.019922</td>\n",
       "      <td>18213.259961</td>\n",
       "      <td>17967.024902</td>\n",
       "      <td>18343.900391</td>\n",
       "      <td>...</td>\n",
       "      <td>1.000170</td>\n",
       "      <td>2.0</td>\n",
       "      <td>1.005771</td>\n",
       "      <td>3.0</td>\n",
       "      <td>1.044439</td>\n",
       "      <td>31.0</td>\n",
       "      <td>1.076374</td>\n",
       "      <td>123.0</td>\n",
       "      <td>1.345139</td>\n",
       "      <td>546.0</td>\n",
       "    </tr>\n",
       "    <tr>\n",
       "      <th>2022-11-17 00:00:00+05:30</th>\n",
       "      <td>18358.699219</td>\n",
       "      <td>18417.599609</td>\n",
       "      <td>18312.949219</td>\n",
       "      <td>18343.900391</td>\n",
       "      <td>0</td>\n",
       "      <td>0</td>\n",
       "      <td>18367.160156</td>\n",
       "      <td>18239.365039</td>\n",
       "      <td>18009.872461</td>\n",
       "      <td>NaN</td>\n",
       "      <td>...</td>\n",
       "      <td>0.998211</td>\n",
       "      <td>1.0</td>\n",
       "      <td>0.998734</td>\n",
       "      <td>3.0</td>\n",
       "      <td>1.040133</td>\n",
       "      <td>31.0</td>\n",
       "      <td>1.072471</td>\n",
       "      <td>122.0</td>\n",
       "      <td>1.339531</td>\n",
       "      <td>546.0</td>\n",
       "    </tr>\n",
       "  </tbody>\n",
       "</table>\n",
       "<p>3716 rows × 21 columns</p>\n",
       "</div>"
      ],
      "text/plain": [
       "                                   Open          High           Low  \\\n",
       "Date                                                                  \n",
       "2007-09-17 00:00:00+05:30   4518.450195   4549.049805   4482.850098   \n",
       "2007-09-18 00:00:00+05:30   4494.100098   4551.799805   4481.549805   \n",
       "2007-09-19 00:00:00+05:30   4550.250000   4739.000000   4550.250000   \n",
       "2007-09-20 00:00:00+05:30   4734.850098   4760.850098   4721.149902   \n",
       "2007-09-21 00:00:00+05:30   4752.950195   4855.700195   4733.700195   \n",
       "...                                 ...           ...           ...   \n",
       "2022-11-11 00:00:00+05:30  18272.349609  18362.300781  18259.349609   \n",
       "2022-11-14 00:00:00+05:30  18376.400391  18399.449219  18311.400391   \n",
       "2022-11-15 00:00:00+05:30  18362.750000  18427.949219  18282.000000   \n",
       "2022-11-16 00:00:00+05:30  18398.250000  18442.150391  18344.150391   \n",
       "2022-11-17 00:00:00+05:30  18358.699219  18417.599609  18312.949219   \n",
       "\n",
       "                                  Close  Volume  Dividends  MA for 5 days  \\\n",
       "Date                                                                        \n",
       "2007-09-17 00:00:00+05:30   4494.649902       0          0            NaN   \n",
       "2007-09-18 00:00:00+05:30   4546.200195       0          0            NaN   \n",
       "2007-09-19 00:00:00+05:30   4732.350098       0          0            NaN   \n",
       "2007-09-20 00:00:00+05:30   4747.549805       0          0            NaN   \n",
       "2007-09-21 00:00:00+05:30   4837.549805       0          0    4671.659961   \n",
       "...                                 ...     ...        ...            ...   \n",
       "2022-11-11 00:00:00+05:30  18349.699219  378500          0   18170.969922   \n",
       "2022-11-14 00:00:00+05:30  18329.150391  301400          0   18213.369922   \n",
       "2022-11-15 00:00:00+05:30  18403.400391  250900          0   18253.489844   \n",
       "2022-11-16 00:00:00+05:30  18409.650391  219300          0   18304.019922   \n",
       "2022-11-17 00:00:00+05:30  18343.900391       0          0   18367.160156   \n",
       "\n",
       "                           MA for 10 days  MA for 20 days      Tomorrow  ...  \\\n",
       "Date                                                                     ...   \n",
       "2007-09-17 00:00:00+05:30             NaN             NaN   4546.200195  ...   \n",
       "2007-09-18 00:00:00+05:30             NaN             NaN   4732.350098  ...   \n",
       "2007-09-19 00:00:00+05:30             NaN             NaN   4747.549805  ...   \n",
       "2007-09-20 00:00:00+05:30             NaN             NaN   4837.549805  ...   \n",
       "2007-09-21 00:00:00+05:30             NaN             NaN   4932.200195  ...   \n",
       "...                                   ...             ...           ...  ...   \n",
       "2022-11-11 00:00:00+05:30    18093.479883    17785.507324  18329.150391  ...   \n",
       "2022-11-14 00:00:00+05:30    18147.714844    17851.247363  18403.400391  ...   \n",
       "2022-11-15 00:00:00+05:30    18186.834961    17912.132422  18409.650391  ...   \n",
       "2022-11-16 00:00:00+05:30    18213.259961    17967.024902  18343.900391  ...   \n",
       "2022-11-17 00:00:00+05:30    18239.365039    18009.872461           NaN  ...   \n",
       "\n",
       "                           Close_Ratio_2  Trend_2  Close_Ratio_5  Trend_5  \\\n",
       "Date                                                                        \n",
       "2007-09-17 00:00:00+05:30            NaN      NaN            NaN      NaN   \n",
       "2007-09-18 00:00:00+05:30       1.005702      NaN            NaN      NaN   \n",
       "2007-09-19 00:00:00+05:30       1.020062      2.0            NaN      NaN   \n",
       "2007-09-20 00:00:00+05:30       1.001603      2.0            NaN      NaN   \n",
       "2007-09-21 00:00:00+05:30       1.009390      2.0       1.035510      NaN   \n",
       "...                                  ...      ...            ...      ...   \n",
       "2022-11-11 00:00:00+05:30       1.008838      1.0       1.009836      3.0   \n",
       "2022-11-14 00:00:00+05:30       0.999440      1.0       1.006357      2.0   \n",
       "2022-11-15 00:00:00+05:30       1.002021      1.0       1.008213      2.0   \n",
       "2022-11-16 00:00:00+05:30       1.000170      2.0       1.005771      3.0   \n",
       "2022-11-17 00:00:00+05:30       0.998211      1.0       0.998734      3.0   \n",
       "\n",
       "                           Close_Ratio_60  Trend_60  Close_Ratio_250  \\\n",
       "Date                                                                   \n",
       "2007-09-17 00:00:00+05:30             NaN       NaN              NaN   \n",
       "2007-09-18 00:00:00+05:30             NaN       NaN              NaN   \n",
       "2007-09-19 00:00:00+05:30             NaN       NaN              NaN   \n",
       "2007-09-20 00:00:00+05:30             NaN       NaN              NaN   \n",
       "2007-09-21 00:00:00+05:30             NaN       NaN              NaN   \n",
       "...                                   ...       ...              ...   \n",
       "2022-11-11 00:00:00+05:30        1.042434      32.0         1.073157   \n",
       "2022-11-14 00:00:00+05:30        1.040770      31.0         1.071877   \n",
       "2022-11-15 00:00:00+05:30        1.044532      31.0         1.076086   \n",
       "2022-11-16 00:00:00+05:30        1.044439      31.0         1.076374   \n",
       "2022-11-17 00:00:00+05:30        1.040133      31.0         1.072471   \n",
       "\n",
       "                           Trend_250  Close_Ratio_1000  Trend_1000  \n",
       "Date                                                                \n",
       "2007-09-17 00:00:00+05:30        NaN               NaN         NaN  \n",
       "2007-09-18 00:00:00+05:30        NaN               NaN         NaN  \n",
       "2007-09-19 00:00:00+05:30        NaN               NaN         NaN  \n",
       "2007-09-20 00:00:00+05:30        NaN               NaN         NaN  \n",
       "2007-09-21 00:00:00+05:30        NaN               NaN         NaN  \n",
       "...                              ...               ...         ...  \n",
       "2022-11-11 00:00:00+05:30      122.0          1.343166       545.0  \n",
       "2022-11-14 00:00:00+05:30      122.0          1.340868       545.0  \n",
       "2022-11-15 00:00:00+05:30      123.0          1.345487       546.0  \n",
       "2022-11-16 00:00:00+05:30      123.0          1.345139       546.0  \n",
       "2022-11-17 00:00:00+05:30      122.0          1.339531       546.0  \n",
       "\n",
       "[3716 rows x 21 columns]"
      ]
     },
     "execution_count": 52,
     "metadata": {},
     "output_type": "execute_result"
    }
   ],
   "source": [
    "nifty50"
   ]
  },
  {
   "cell_type": "code",
   "execution_count": 53,
   "id": "34c0b657",
   "metadata": {},
   "outputs": [],
   "source": [
    "nifty50 = nifty50.dropna()"
   ]
  },
  {
   "cell_type": "markdown",
   "id": "d96ee763",
   "metadata": {},
   "source": [
    "### Gradient boosting for improved model"
   ]
  },
  {
   "cell_type": "code",
   "execution_count": 54,
   "id": "863544e2",
   "metadata": {},
   "outputs": [],
   "source": [
    "model = GradientBoostingClassifier(\n",
    "    n_estimators = 4000,\n",
    "    learning_rate = 0.05,\n",
    "    max_depth = 64,\n",
    "    subsample = 0.8,\n",
    "    validation_fraction = 0.2,\n",
    "    n_iter_no_change = 26,\n",
    "    verbose = 1\n",
    ")\n",
    "\n",
    "\n",
    "def predict(train,test,predictors,model):\n",
    "    model.fit(train[predictors], train['Target'])\n",
    "    preds = model.predict_proba(test[predictors])[:,1]\n",
    "    \n",
    "    preds[preds >= 0.57] = 1\n",
    "    preds[preds < 0.57] = 0\n",
    "    \n",
    "    preds = pd.Series(preds, index=test.index, name='Predictions')\n",
    "    combined = pd.concat([test['Target'], preds], axis=1)\n",
    "    return combined"
   ]
  },
  {
   "cell_type": "code",
   "execution_count": 55,
   "id": "cb42dc5e",
   "metadata": {
    "scrolled": true
   },
   "outputs": [
    {
     "name": "stdout",
     "output_type": "stream",
     "text": [
      "      Iter       Train Loss      OOB Improve   Remaining Time \n",
      "         1           1.2852           0.0080            1.81m\n",
      "         2           1.2129           0.0046            1.74m\n",
      "         3           1.1452           0.0068            1.85m\n",
      "         4           1.0847           0.0044            2.18m\n",
      "         5           1.0292           0.0018            2.38m\n",
      "         6           0.9754           0.0015            2.60m\n",
      "         7           0.9249           0.0050            2.79m\n",
      "         8           0.8769           0.0001            2.92m\n",
      "         9           0.8378          -0.0010            2.96m\n",
      "        10           0.7926           0.0005            3.10m\n",
      "        20           0.4992           0.0004            3.65m\n",
      "      Iter       Train Loss      OOB Improve   Remaining Time \n",
      "         1           1.2819          -0.0113            3.15m\n",
      "         2           1.2171          -0.0018            2.63m\n",
      "         3           1.1501          -0.0053            2.80m\n",
      "         4           1.0904           0.0042            2.88m\n",
      "         5           1.0311           0.0114            3.16m\n",
      "         6           0.9772          -0.0040            3.33m\n",
      "         7           0.9239          -0.0053            3.31m\n",
      "         8           0.8827           0.0018            3.42m\n",
      "         9           0.8390          -0.0046            3.58m\n",
      "        10           0.7988          -0.0004            3.64m\n",
      "        20           0.5011          -0.0026            4.23m\n",
      "      Iter       Train Loss      OOB Improve   Remaining Time \n",
      "         1           1.2814           0.0066            2.67m\n",
      "         2           1.2145           0.0023            2.61m\n",
      "         3           1.1454           0.0027            3.11m\n",
      "         4           1.0850           0.0030            3.14m\n",
      "         5           1.0248          -0.0046            3.42m\n",
      "         6           0.9761           0.0037            3.63m\n",
      "         7           0.9267          -0.0028            3.73m\n",
      "         8           0.8806           0.0011            3.97m\n",
      "         9           0.8328          -0.0051            4.02m\n",
      "        10           0.7975           0.0027            4.14m\n",
      "        20           0.4964          -0.0009            4.80m\n"
     ]
    }
   ],
   "source": [
    "predictions = backtest(nifty50, model, new_predictors)"
   ]
  },
  {
   "cell_type": "code",
   "execution_count": 56,
   "id": "36c1fe91",
   "metadata": {
    "scrolled": true
   },
   "outputs": [
    {
     "data": {
      "text/plain": [
       "0.0    536\n",
       "1.0    179\n",
       "Name: Predictions, dtype: int64"
      ]
     },
     "execution_count": 56,
     "metadata": {},
     "output_type": "execute_result"
    }
   ],
   "source": [
    "predictions['Predictions'].value_counts()"
   ]
  },
  {
   "cell_type": "code",
   "execution_count": 57,
   "id": "3978e630",
   "metadata": {},
   "outputs": [
    {
     "data": {
      "text/plain": [
       "0.5865921787709497"
      ]
     },
     "execution_count": 57,
     "metadata": {},
     "output_type": "execute_result"
    }
   ],
   "source": [
    "precision_score(predictions['Target'], predictions['Predictions'])"
   ]
  },
  {
   "cell_type": "markdown",
   "id": "622da507",
   "metadata": {},
   "source": [
    "### (AdaBoost + Random Forest) for improved model"
   ]
  },
  {
   "cell_type": "code",
   "execution_count": 58,
   "id": "bbc514f3",
   "metadata": {},
   "outputs": [],
   "source": [
    "model = AdaBoostClassifier(\n",
    "    base_estimator = random_model,\n",
    "    n_estimators = 200,\n",
    "    learning_rate = 1,\n",
    "    random_state = 40\n",
    ")\n",
    "\n",
    "\n",
    "\n",
    "def predict(train,test,predictors,model):\n",
    "    model.fit(train[predictors], train['Target'])\n",
    "    preds = model.predict_proba(test[predictors])[:,1]\n",
    "    \n",
    "    preds[preds >= 0.57] = 1\n",
    "    preds[preds < 0.57] = 0\n",
    "    \n",
    "    preds = pd.Series(preds, index=test.index, name='Predictions')\n",
    "    combined = pd.concat([test['Target'], preds], axis=1)\n",
    "    return combined"
   ]
  },
  {
   "cell_type": "code",
   "execution_count": 59,
   "id": "8eddf64d",
   "metadata": {},
   "outputs": [],
   "source": [
    "predictions = backtest(nifty50, model, new_predictors)"
   ]
  },
  {
   "cell_type": "code",
   "execution_count": 60,
   "id": "d42870b7",
   "metadata": {},
   "outputs": [
    {
     "data": {
      "text/plain": [
       "0.0    548\n",
       "1.0    167\n",
       "Name: Predictions, dtype: int64"
      ]
     },
     "execution_count": 60,
     "metadata": {},
     "output_type": "execute_result"
    }
   ],
   "source": [
    "predictions['Predictions'].value_counts()"
   ]
  },
  {
   "cell_type": "code",
   "execution_count": 61,
   "id": "baa6bfd7",
   "metadata": {},
   "outputs": [
    {
     "data": {
      "text/plain": [
       "0.5808383233532934"
      ]
     },
     "execution_count": 61,
     "metadata": {},
     "output_type": "execute_result"
    }
   ],
   "source": [
    "precision_score(predictions['Target'], predictions['Predictions'])"
   ]
  },
  {
   "cell_type": "markdown",
   "id": "1a3e166f",
   "metadata": {},
   "source": [
    "### (AdaBoost + GaussianNB) for improved model"
   ]
  },
  {
   "cell_type": "code",
   "execution_count": 62,
   "id": "a911f00d",
   "metadata": {},
   "outputs": [],
   "source": [
    "model = AdaBoostClassifier(\n",
    "    base_estimator = gaussinb_model,\n",
    "    n_estimators = 200,\n",
    "    learning_rate = 1,\n",
    "    random_state = 40\n",
    ")\n",
    "\n",
    "\n",
    "def predict(train,test,predictors,model):\n",
    "    model.fit(train[predictors], train['Target'])\n",
    "    preds = model.predict_proba(test[predictors])[:,1]\n",
    "    \n",
    "    preds[preds >= 0.57] = 1\n",
    "    preds[preds < 0.57] = 0\n",
    "    \n",
    "    preds = pd.Series(preds, index=test.index, name='Predictions')\n",
    "    combined = pd.concat([test['Target'], preds], axis=1)\n",
    "    return combined"
   ]
  },
  {
   "cell_type": "code",
   "execution_count": 63,
   "id": "316596ab",
   "metadata": {},
   "outputs": [],
   "source": [
    "predictions = backtest(nifty50, model, new_predictors)"
   ]
  },
  {
   "cell_type": "code",
   "execution_count": 64,
   "id": "b892cfa9",
   "metadata": {},
   "outputs": [
    {
     "data": {
      "text/plain": [
       "0.0    405\n",
       "1.0    310\n",
       "Name: Predictions, dtype: int64"
      ]
     },
     "execution_count": 64,
     "metadata": {},
     "output_type": "execute_result"
    }
   ],
   "source": [
    "predictions['Predictions'].value_counts()"
   ]
  },
  {
   "cell_type": "code",
   "execution_count": 65,
   "id": "485c0840",
   "metadata": {},
   "outputs": [
    {
     "data": {
      "text/plain": [
       "0.5548387096774193"
      ]
     },
     "execution_count": 65,
     "metadata": {},
     "output_type": "execute_result"
    }
   ],
   "source": [
    "precision_score(predictions['Target'], predictions['Predictions'])"
   ]
  },
  {
   "cell_type": "markdown",
   "id": "015cd48b",
   "metadata": {},
   "source": [
    "### (AdaBoost + Decision tree) for improved model"
   ]
  },
  {
   "cell_type": "code",
   "execution_count": 66,
   "id": "b048f685",
   "metadata": {},
   "outputs": [],
   "source": [
    "model = AdaBoostClassifier(\n",
    "    base_estimator = dtc_model,\n",
    "    n_estimators = 400,\n",
    "    learning_rate = 1,\n",
    "    random_state = 40\n",
    ")\n",
    "\n",
    "def predict(train,test,predictors,model):\n",
    "    model.fit(train[predictors], train['Target'])\n",
    "    preds = model.predict_proba(test[predictors])[:,1]\n",
    "    \n",
    "    preds[preds >= 0.57] = 1\n",
    "    preds[preds < 0.57] = 0\n",
    "    \n",
    "    preds = pd.Series(preds, index=test.index, name='Predictions')\n",
    "    combined = pd.concat([test['Target'], preds], axis=1)\n",
    "    return combined"
   ]
  },
  {
   "cell_type": "code",
   "execution_count": 67,
   "id": "9d888f12",
   "metadata": {},
   "outputs": [],
   "source": [
    "predictions = backtest(nifty50, model, new_predictors)"
   ]
  },
  {
   "cell_type": "code",
   "execution_count": 68,
   "id": "8dadb19b",
   "metadata": {
    "scrolled": true
   },
   "outputs": [
    {
     "data": {
      "text/plain": [
       "0.0    397\n",
       "1.0    318\n",
       "Name: Predictions, dtype: int64"
      ]
     },
     "execution_count": 68,
     "metadata": {},
     "output_type": "execute_result"
    }
   ],
   "source": [
    "predictions['Predictions'].value_counts()"
   ]
  },
  {
   "cell_type": "code",
   "execution_count": 69,
   "id": "e1aa7839",
   "metadata": {},
   "outputs": [
    {
     "data": {
      "text/plain": [
       "0.5566037735849056"
      ]
     },
     "execution_count": 69,
     "metadata": {},
     "output_type": "execute_result"
    }
   ],
   "source": [
    "precision_score(predictions['Target'], predictions['Predictions'])"
   ]
  },
  {
   "cell_type": "markdown",
   "id": "0e6e7e05",
   "metadata": {},
   "source": [
    "### Random forest for improved model"
   ]
  },
  {
   "cell_type": "code",
   "execution_count": 74,
   "id": "82e8e119",
   "metadata": {},
   "outputs": [],
   "source": [
    "model = RandomForestClassifier(n_estimators = 200, min_samples_split=8,max_features='log2',max_depth=64)\n",
    "\n",
    "def predict(train,test,predictors,model):\n",
    "    model.fit(train[predictors], train['Target'])\n",
    "    preds = model.predict_proba(test[predictors])[:,1]\n",
    "    \n",
    "    preds[preds >= 0.56] = 1\n",
    "    preds[preds < 0.56] = 0\n",
    "    \n",
    "    preds = pd.Series(preds, index=test.index, name='Predictions')\n",
    "    combined = pd.concat([test['Target'], preds], axis=1)\n",
    "    return combined"
   ]
  },
  {
   "cell_type": "code",
   "execution_count": 75,
   "id": "08663323",
   "metadata": {},
   "outputs": [],
   "source": [
    "predictions = backtest(nifty50, model, new_predictors)"
   ]
  },
  {
   "cell_type": "code",
   "execution_count": 76,
   "id": "5612e80c",
   "metadata": {},
   "outputs": [
    {
     "data": {
      "text/plain": [
       "0.0    537\n",
       "1.0    178\n",
       "Name: Predictions, dtype: int64"
      ]
     },
     "execution_count": 76,
     "metadata": {},
     "output_type": "execute_result"
    }
   ],
   "source": [
    "predictions['Predictions'].value_counts()"
   ]
  },
  {
   "cell_type": "code",
   "execution_count": 77,
   "id": "2f834acd",
   "metadata": {},
   "outputs": [
    {
     "data": {
      "text/plain": [
       "0.651685393258427"
      ]
     },
     "execution_count": 77,
     "metadata": {},
     "output_type": "execute_result"
    }
   ],
   "source": [
    "precision_score(predictions['Target'], predictions['Predictions'])"
   ]
  },
  {
   "cell_type": "code",
   "execution_count": 78,
   "id": "1f1f1468",
   "metadata": {},
   "outputs": [
    {
     "data": {
      "text/plain": [
       "<AxesSubplot:xlabel='Date'>"
      ]
     },
     "execution_count": 78,
     "metadata": {},
     "output_type": "execute_result"
    },
    {
     "data": {
      "image/png": "[encoded data removed]",
      "text/plain": [
       "<Figure size 432x288 with 1 Axes>"
      ]
     },
     "metadata": {
      "needs_background": "light"
     },
     "output_type": "display_data"
    }
   ],
   "source": [
    "combined = pd.concat([test['Target'], preds], axis=1)\n",
    "\n",
    "combined.plot()"
   ]
  },
  {
   "cell_type": "markdown",
   "id": "6931a1cb",
   "metadata": {},
   "source": [
    "# Conclusion"
   ]
  },
  {
   "attachments": {
    "DSE_20180_Shambhuraje_FinalProject-1.png": {
     "image/png": "[encoded data removed]"
    }
   },
   "cell_type": "markdown",
   "id": "1b29419d",
   "metadata": {},
   "source": [
    "![DSE_20180_Shambhuraje_FinalProject-1.png](attachment:DSE_20180_Shambhuraje_FinalProject-1.png)"
   ]
  },
  {
   "cell_type": "markdown",
   "id": "0c9b190d",
   "metadata": {},
   "source": [
    "- First we select top 3 models based on their performance for Ada-Boosting ensemble learning technique.\n",
    "- Then we use Ada-Boosting technique on 3 model to improve models performance and get more generalized form of model.\n",
    "- Then we use gradient boosting technique.\n",
    "- Then improve model performance by using Backtesting and Rolling average technique.\n",
    "- Then apply Ada-Boosting models on it and select best one. Here we get Random Forest Classification model."
   ]
  },
  {
   "cell_type": "markdown",
   "id": "d4db4f5e",
   "metadata": {},
   "source": [
    "## Discussion"
   ]
  },
  {
   "cell_type": "markdown",
   "id": "29dceadd",
   "metadata": {},
   "source": [
    "- Here we use simple techniques which read patterns in historical data and gives us predictions. We can improve this model by using different features, which affects the stock market like Government decisions, Market sentiments, Disaster, wrong manipulations,and many others."
   ]
  },
  {
   "cell_type": "markdown",
   "id": "fe0364c0",
   "metadata": {},
   "source": [
    "# --------------------------------------  THANK YOU  ---------------------------------------   "
   ]
  }
 ],
 "metadata": {
  "kernelspec": {
   "display_name": "Python 3 (ipykernel)",
   "language": "python",
   "name": "python3"
  },
  "language_info": {
   "codemirror_mode": {
    "name": "ipython",
    "version": 3
   },
   "file_extension": ".py",
   "mimetype": "text/x-python",
   "name": "python",
   "nbconvert_exporter": "python",
   "pygments_lexer": "ipython3",
   "version": "3.9.12"
  }
 },
 "nbformat": 4,
 "nbformat_minor": 5
}
